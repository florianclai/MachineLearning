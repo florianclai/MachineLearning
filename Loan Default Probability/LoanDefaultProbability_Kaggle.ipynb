{
 "cells": [
  {
   "cell_type": "markdown",
   "metadata": {
    "_cell_guid": "83708667-4fdc-1563-7b3a-06b6575d2865"
   },
   "source": [
    "\n",
    "\n",
    "# Loan Default Probability \n",
    "\n",
    "The goal of this case study is to build a machine learning model to predict the probability that a loan will default."
   ]
  },
  {
   "cell_type": "code",
   "execution_count": 1,
   "metadata": {},
   "outputs": [],
   "source": [
    "# Disable the warnings\n",
    "import warnings\n",
    "warnings.filterwarnings('ignore')"
   ]
  },
  {
   "cell_type": "markdown",
   "metadata": {},
   "source": [
    "<a id='0'></a>\n",
    "# 1. Problem Definition"
   ]
  },
  {
   "cell_type": "markdown",
   "metadata": {},
   "source": [
    "This case study aims to analyze data for loans through 2007-2017Q3 from Lending Club available on Kaggle. Dataset contains over 887 thousand observations and 150 variables among which one is describing the loan status. The predicted variable is “Charge-Off ”. A charge-off is a debt that a creditor has given up trying to collect on after you’ve missed payments for several months. You want a model that can predict charge-off."
   ]
  },
  {
   "cell_type": "markdown",
   "metadata": {},
   "source": [
    "<a id='1'></a>\n",
    "# 2. Getting Started- Loading the data and python packages"
   ]
  },
  {
   "cell_type": "markdown",
   "metadata": {},
   "source": [
    "## 2.1. Load all the python packages you need here"
   ]
  },
  {
   "cell_type": "code",
   "execution_count": 2,
   "metadata": {
    "_cell_guid": "5d8fee34-f454-2642-8b06-ed719f0317e1"
   },
   "outputs": [],
   "source": [
    "import pandas as pd\n",
    "import numpy as np\n",
    "import seaborn as sns\n",
    "import matplotlib.pyplot as plt\n",
    "\n",
    "from sklearn.preprocessing import StandardScaler, LabelEncoder, MinMaxScaler\n",
    "from sklearn.model_selection import train_test_split, KFold, cross_val_score, GridSearchCV\n",
    "from sklearn.metrics import (\n",
    "    accuracy_score,\n",
    "    confusion_matrix,\n",
    "    classification_report,\n",
    "    roc_auc_score,\n",
    "    roc_curve,\n",
    "    ConfusionMatrixDisplay,\n",
    "    make_scorer\n",
    ")\n",
    "from sklearn.decomposition import PCA\n",
    "\n",
    "# Models\n",
    "from sklearn.linear_model import LogisticRegression\n",
    "from sklearn.neighbors import KNeighborsClassifier\n",
    "from sklearn.tree import DecisionTreeClassifier\n",
    "from sklearn.naive_bayes import GaussianNB\n",
    "from sklearn.neural_network import MLPClassifier\n",
    "from sklearn.ensemble import (\n",
    "    AdaBoostClassifier,\n",
    "    RandomForestClassifier,\n",
    "    GradientBoostingClassifier,\n",
    "    VotingClassifier\n",
    ")"
   ]
  },
  {
   "cell_type": "markdown",
   "metadata": {},
   "source": [
    "<a id='1.2'></a>\n",
    "## 2.2. Loading the Data"
   ]
  },
  {
   "cell_type": "markdown",
   "metadata": {},
   "source": [
    "### Load the data"
   ]
  },
  {
   "cell_type": "code",
   "execution_count": 3,
   "metadata": {
    "_cell_guid": "787e35f7-bf9e-0969-8d13-a54fa87f3519",
    "scrolled": true
   },
   "outputs": [],
   "source": [
    "dataset = pd.read_csv('LoansData_sample.csv.gz', compression='gzip', encoding='utf-8')"
   ]
  },
  {
   "cell_type": "code",
   "execution_count": 4,
   "metadata": {},
   "outputs": [
    {
     "data": {
      "text/html": [
       "<div>\n",
       "<style scoped>\n",
       "    .dataframe tbody tr th:only-of-type {\n",
       "        vertical-align: middle;\n",
       "    }\n",
       "\n",
       "    .dataframe tbody tr th {\n",
       "        vertical-align: top;\n",
       "    }\n",
       "\n",
       "    .dataframe thead th {\n",
       "        text-align: right;\n",
       "    }\n",
       "</style>\n",
       "<table border=\"1\" class=\"dataframe\">\n",
       "  <thead>\n",
       "    <tr style=\"text-align: right;\">\n",
       "      <th></th>\n",
       "      <th>Unnamed: 0</th>\n",
       "      <th>id</th>\n",
       "      <th>member_id</th>\n",
       "      <th>loan_amnt</th>\n",
       "      <th>funded_amnt</th>\n",
       "      <th>funded_amnt_inv</th>\n",
       "      <th>term</th>\n",
       "      <th>int_rate</th>\n",
       "      <th>installment</th>\n",
       "      <th>grade</th>\n",
       "      <th>...</th>\n",
       "      <th>hardship_payoff_balance_amount</th>\n",
       "      <th>hardship_last_payment_amount</th>\n",
       "      <th>disbursement_method</th>\n",
       "      <th>debt_settlement_flag</th>\n",
       "      <th>debt_settlement_flag_date</th>\n",
       "      <th>settlement_status</th>\n",
       "      <th>settlement_date</th>\n",
       "      <th>settlement_amount</th>\n",
       "      <th>settlement_percentage</th>\n",
       "      <th>settlement_term</th>\n",
       "    </tr>\n",
       "  </thead>\n",
       "  <tbody>\n",
       "    <tr>\n",
       "      <th>0</th>\n",
       "      <td>0</td>\n",
       "      <td>38098114</td>\n",
       "      <td>NaN</td>\n",
       "      <td>15000.0</td>\n",
       "      <td>15000.0</td>\n",
       "      <td>15000.0</td>\n",
       "      <td>60 months</td>\n",
       "      <td>12.39</td>\n",
       "      <td>336.64</td>\n",
       "      <td>C</td>\n",
       "      <td>...</td>\n",
       "      <td>NaN</td>\n",
       "      <td>NaN</td>\n",
       "      <td>Cash</td>\n",
       "      <td>N</td>\n",
       "      <td>NaN</td>\n",
       "      <td>NaN</td>\n",
       "      <td>NaN</td>\n",
       "      <td>NaN</td>\n",
       "      <td>NaN</td>\n",
       "      <td>NaN</td>\n",
       "    </tr>\n",
       "    <tr>\n",
       "      <th>1</th>\n",
       "      <td>1</td>\n",
       "      <td>36805548</td>\n",
       "      <td>NaN</td>\n",
       "      <td>10400.0</td>\n",
       "      <td>10400.0</td>\n",
       "      <td>10400.0</td>\n",
       "      <td>36 months</td>\n",
       "      <td>6.99</td>\n",
       "      <td>321.08</td>\n",
       "      <td>A</td>\n",
       "      <td>...</td>\n",
       "      <td>NaN</td>\n",
       "      <td>NaN</td>\n",
       "      <td>Cash</td>\n",
       "      <td>N</td>\n",
       "      <td>NaN</td>\n",
       "      <td>NaN</td>\n",
       "      <td>NaN</td>\n",
       "      <td>NaN</td>\n",
       "      <td>NaN</td>\n",
       "      <td>NaN</td>\n",
       "    </tr>\n",
       "    <tr>\n",
       "      <th>2</th>\n",
       "      <td>2</td>\n",
       "      <td>37842129</td>\n",
       "      <td>NaN</td>\n",
       "      <td>21425.0</td>\n",
       "      <td>21425.0</td>\n",
       "      <td>21425.0</td>\n",
       "      <td>60 months</td>\n",
       "      <td>15.59</td>\n",
       "      <td>516.36</td>\n",
       "      <td>D</td>\n",
       "      <td>...</td>\n",
       "      <td>NaN</td>\n",
       "      <td>NaN</td>\n",
       "      <td>Cash</td>\n",
       "      <td>N</td>\n",
       "      <td>NaN</td>\n",
       "      <td>NaN</td>\n",
       "      <td>NaN</td>\n",
       "      <td>NaN</td>\n",
       "      <td>NaN</td>\n",
       "      <td>NaN</td>\n",
       "    </tr>\n",
       "    <tr>\n",
       "      <th>3</th>\n",
       "      <td>3</td>\n",
       "      <td>37612354</td>\n",
       "      <td>NaN</td>\n",
       "      <td>12800.0</td>\n",
       "      <td>12800.0</td>\n",
       "      <td>12800.0</td>\n",
       "      <td>60 months</td>\n",
       "      <td>17.14</td>\n",
       "      <td>319.08</td>\n",
       "      <td>D</td>\n",
       "      <td>...</td>\n",
       "      <td>NaN</td>\n",
       "      <td>NaN</td>\n",
       "      <td>Cash</td>\n",
       "      <td>N</td>\n",
       "      <td>NaN</td>\n",
       "      <td>NaN</td>\n",
       "      <td>NaN</td>\n",
       "      <td>NaN</td>\n",
       "      <td>NaN</td>\n",
       "      <td>NaN</td>\n",
       "    </tr>\n",
       "    <tr>\n",
       "      <th>4</th>\n",
       "      <td>4</td>\n",
       "      <td>37662224</td>\n",
       "      <td>NaN</td>\n",
       "      <td>7650.0</td>\n",
       "      <td>7650.0</td>\n",
       "      <td>7650.0</td>\n",
       "      <td>36 months</td>\n",
       "      <td>13.66</td>\n",
       "      <td>260.20</td>\n",
       "      <td>C</td>\n",
       "      <td>...</td>\n",
       "      <td>NaN</td>\n",
       "      <td>NaN</td>\n",
       "      <td>Cash</td>\n",
       "      <td>N</td>\n",
       "      <td>NaN</td>\n",
       "      <td>NaN</td>\n",
       "      <td>NaN</td>\n",
       "      <td>NaN</td>\n",
       "      <td>NaN</td>\n",
       "      <td>NaN</td>\n",
       "    </tr>\n",
       "  </tbody>\n",
       "</table>\n",
       "<p>5 rows × 151 columns</p>\n",
       "</div>"
      ],
      "text/plain": [
       "   Unnamed: 0        id  member_id  loan_amnt  funded_amnt  funded_amnt_inv  \\\n",
       "0           0  38098114        NaN    15000.0      15000.0          15000.0   \n",
       "1           1  36805548        NaN    10400.0      10400.0          10400.0   \n",
       "2           2  37842129        NaN    21425.0      21425.0          21425.0   \n",
       "3           3  37612354        NaN    12800.0      12800.0          12800.0   \n",
       "4           4  37662224        NaN     7650.0       7650.0           7650.0   \n",
       "\n",
       "         term  int_rate  installment grade  ...  \\\n",
       "0   60 months     12.39       336.64     C  ...   \n",
       "1   36 months      6.99       321.08     A  ...   \n",
       "2   60 months     15.59       516.36     D  ...   \n",
       "3   60 months     17.14       319.08     D  ...   \n",
       "4   36 months     13.66       260.20     C  ...   \n",
       "\n",
       "  hardship_payoff_balance_amount hardship_last_payment_amount  \\\n",
       "0                            NaN                          NaN   \n",
       "1                            NaN                          NaN   \n",
       "2                            NaN                          NaN   \n",
       "3                            NaN                          NaN   \n",
       "4                            NaN                          NaN   \n",
       "\n",
       "  disbursement_method debt_settlement_flag  debt_settlement_flag_date  \\\n",
       "0                Cash                    N                        NaN   \n",
       "1                Cash                    N                        NaN   \n",
       "2                Cash                    N                        NaN   \n",
       "3                Cash                    N                        NaN   \n",
       "4                Cash                    N                        NaN   \n",
       "\n",
       "  settlement_status settlement_date settlement_amount settlement_percentage  \\\n",
       "0               NaN             NaN               NaN                   NaN   \n",
       "1               NaN             NaN               NaN                   NaN   \n",
       "2               NaN             NaN               NaN                   NaN   \n",
       "3               NaN             NaN               NaN                   NaN   \n",
       "4               NaN             NaN               NaN                   NaN   \n",
       "\n",
       "  settlement_term  \n",
       "0             NaN  \n",
       "1             NaN  \n",
       "2             NaN  \n",
       "3             NaN  \n",
       "4             NaN  \n",
       "\n",
       "[5 rows x 151 columns]"
      ]
     },
     "execution_count": 4,
     "metadata": {},
     "output_type": "execute_result"
    }
   ],
   "source": [
    "dataset.head()"
   ]
  },
  {
   "cell_type": "code",
   "execution_count": 5,
   "metadata": {},
   "outputs": [],
   "source": [
    "dataset = dataset.drop(dataset.columns[0], axis=1)"
   ]
  },
  {
   "cell_type": "code",
   "execution_count": 6,
   "metadata": {},
   "outputs": [
    {
     "data": {
      "text/html": [
       "<div>\n",
       "<style scoped>\n",
       "    .dataframe tbody tr th:only-of-type {\n",
       "        vertical-align: middle;\n",
       "    }\n",
       "\n",
       "    .dataframe tbody tr th {\n",
       "        vertical-align: top;\n",
       "    }\n",
       "\n",
       "    .dataframe thead th {\n",
       "        text-align: right;\n",
       "    }\n",
       "</style>\n",
       "<table border=\"1\" class=\"dataframe\">\n",
       "  <thead>\n",
       "    <tr style=\"text-align: right;\">\n",
       "      <th></th>\n",
       "      <th>id</th>\n",
       "      <th>member_id</th>\n",
       "      <th>loan_amnt</th>\n",
       "      <th>funded_amnt</th>\n",
       "      <th>funded_amnt_inv</th>\n",
       "      <th>term</th>\n",
       "      <th>int_rate</th>\n",
       "      <th>installment</th>\n",
       "      <th>grade</th>\n",
       "      <th>sub_grade</th>\n",
       "      <th>...</th>\n",
       "      <th>hardship_payoff_balance_amount</th>\n",
       "      <th>hardship_last_payment_amount</th>\n",
       "      <th>disbursement_method</th>\n",
       "      <th>debt_settlement_flag</th>\n",
       "      <th>debt_settlement_flag_date</th>\n",
       "      <th>settlement_status</th>\n",
       "      <th>settlement_date</th>\n",
       "      <th>settlement_amount</th>\n",
       "      <th>settlement_percentage</th>\n",
       "      <th>settlement_term</th>\n",
       "    </tr>\n",
       "  </thead>\n",
       "  <tbody>\n",
       "    <tr>\n",
       "      <th>0</th>\n",
       "      <td>38098114</td>\n",
       "      <td>NaN</td>\n",
       "      <td>15000.0</td>\n",
       "      <td>15000.0</td>\n",
       "      <td>15000.0</td>\n",
       "      <td>60 months</td>\n",
       "      <td>12.39</td>\n",
       "      <td>336.64</td>\n",
       "      <td>C</td>\n",
       "      <td>C1</td>\n",
       "      <td>...</td>\n",
       "      <td>NaN</td>\n",
       "      <td>NaN</td>\n",
       "      <td>Cash</td>\n",
       "      <td>N</td>\n",
       "      <td>NaN</td>\n",
       "      <td>NaN</td>\n",
       "      <td>NaN</td>\n",
       "      <td>NaN</td>\n",
       "      <td>NaN</td>\n",
       "      <td>NaN</td>\n",
       "    </tr>\n",
       "    <tr>\n",
       "      <th>1</th>\n",
       "      <td>36805548</td>\n",
       "      <td>NaN</td>\n",
       "      <td>10400.0</td>\n",
       "      <td>10400.0</td>\n",
       "      <td>10400.0</td>\n",
       "      <td>36 months</td>\n",
       "      <td>6.99</td>\n",
       "      <td>321.08</td>\n",
       "      <td>A</td>\n",
       "      <td>A3</td>\n",
       "      <td>...</td>\n",
       "      <td>NaN</td>\n",
       "      <td>NaN</td>\n",
       "      <td>Cash</td>\n",
       "      <td>N</td>\n",
       "      <td>NaN</td>\n",
       "      <td>NaN</td>\n",
       "      <td>NaN</td>\n",
       "      <td>NaN</td>\n",
       "      <td>NaN</td>\n",
       "      <td>NaN</td>\n",
       "    </tr>\n",
       "    <tr>\n",
       "      <th>2</th>\n",
       "      <td>37842129</td>\n",
       "      <td>NaN</td>\n",
       "      <td>21425.0</td>\n",
       "      <td>21425.0</td>\n",
       "      <td>21425.0</td>\n",
       "      <td>60 months</td>\n",
       "      <td>15.59</td>\n",
       "      <td>516.36</td>\n",
       "      <td>D</td>\n",
       "      <td>D1</td>\n",
       "      <td>...</td>\n",
       "      <td>NaN</td>\n",
       "      <td>NaN</td>\n",
       "      <td>Cash</td>\n",
       "      <td>N</td>\n",
       "      <td>NaN</td>\n",
       "      <td>NaN</td>\n",
       "      <td>NaN</td>\n",
       "      <td>NaN</td>\n",
       "      <td>NaN</td>\n",
       "      <td>NaN</td>\n",
       "    </tr>\n",
       "    <tr>\n",
       "      <th>3</th>\n",
       "      <td>37612354</td>\n",
       "      <td>NaN</td>\n",
       "      <td>12800.0</td>\n",
       "      <td>12800.0</td>\n",
       "      <td>12800.0</td>\n",
       "      <td>60 months</td>\n",
       "      <td>17.14</td>\n",
       "      <td>319.08</td>\n",
       "      <td>D</td>\n",
       "      <td>D4</td>\n",
       "      <td>...</td>\n",
       "      <td>NaN</td>\n",
       "      <td>NaN</td>\n",
       "      <td>Cash</td>\n",
       "      <td>N</td>\n",
       "      <td>NaN</td>\n",
       "      <td>NaN</td>\n",
       "      <td>NaN</td>\n",
       "      <td>NaN</td>\n",
       "      <td>NaN</td>\n",
       "      <td>NaN</td>\n",
       "    </tr>\n",
       "    <tr>\n",
       "      <th>4</th>\n",
       "      <td>37662224</td>\n",
       "      <td>NaN</td>\n",
       "      <td>7650.0</td>\n",
       "      <td>7650.0</td>\n",
       "      <td>7650.0</td>\n",
       "      <td>36 months</td>\n",
       "      <td>13.66</td>\n",
       "      <td>260.20</td>\n",
       "      <td>C</td>\n",
       "      <td>C3</td>\n",
       "      <td>...</td>\n",
       "      <td>NaN</td>\n",
       "      <td>NaN</td>\n",
       "      <td>Cash</td>\n",
       "      <td>N</td>\n",
       "      <td>NaN</td>\n",
       "      <td>NaN</td>\n",
       "      <td>NaN</td>\n",
       "      <td>NaN</td>\n",
       "      <td>NaN</td>\n",
       "      <td>NaN</td>\n",
       "    </tr>\n",
       "  </tbody>\n",
       "</table>\n",
       "<p>5 rows × 150 columns</p>\n",
       "</div>"
      ],
      "text/plain": [
       "         id  member_id  loan_amnt  funded_amnt  funded_amnt_inv        term  \\\n",
       "0  38098114        NaN    15000.0      15000.0          15000.0   60 months   \n",
       "1  36805548        NaN    10400.0      10400.0          10400.0   36 months   \n",
       "2  37842129        NaN    21425.0      21425.0          21425.0   60 months   \n",
       "3  37612354        NaN    12800.0      12800.0          12800.0   60 months   \n",
       "4  37662224        NaN     7650.0       7650.0           7650.0   36 months   \n",
       "\n",
       "   int_rate  installment grade sub_grade  ... hardship_payoff_balance_amount  \\\n",
       "0     12.39       336.64     C        C1  ...                            NaN   \n",
       "1      6.99       321.08     A        A3  ...                            NaN   \n",
       "2     15.59       516.36     D        D1  ...                            NaN   \n",
       "3     17.14       319.08     D        D4  ...                            NaN   \n",
       "4     13.66       260.20     C        C3  ...                            NaN   \n",
       "\n",
       "  hardship_last_payment_amount disbursement_method  debt_settlement_flag  \\\n",
       "0                          NaN                Cash                     N   \n",
       "1                          NaN                Cash                     N   \n",
       "2                          NaN                Cash                     N   \n",
       "3                          NaN                Cash                     N   \n",
       "4                          NaN                Cash                     N   \n",
       "\n",
       "  debt_settlement_flag_date settlement_status settlement_date  \\\n",
       "0                       NaN               NaN             NaN   \n",
       "1                       NaN               NaN             NaN   \n",
       "2                       NaN               NaN             NaN   \n",
       "3                       NaN               NaN             NaN   \n",
       "4                       NaN               NaN             NaN   \n",
       "\n",
       "  settlement_amount settlement_percentage settlement_term  \n",
       "0               NaN                   NaN             NaN  \n",
       "1               NaN                   NaN             NaN  \n",
       "2               NaN                   NaN             NaN  \n",
       "3               NaN                   NaN             NaN  \n",
       "4               NaN                   NaN             NaN  \n",
       "\n",
       "[5 rows x 150 columns]"
      ]
     },
     "execution_count": 6,
     "metadata": {},
     "output_type": "execute_result"
    }
   ],
   "source": [
    "dataset.head()"
   ]
  },
  {
   "cell_type": "code",
   "execution_count": 7,
   "metadata": {},
   "outputs": [
    {
     "data": {
      "text/html": [
       "<div>\n",
       "<style scoped>\n",
       "    .dataframe tbody tr th:only-of-type {\n",
       "        vertical-align: middle;\n",
       "    }\n",
       "\n",
       "    .dataframe tbody tr th {\n",
       "        vertical-align: top;\n",
       "    }\n",
       "\n",
       "    .dataframe thead th {\n",
       "        text-align: right;\n",
       "    }\n",
       "</style>\n",
       "<table border=\"1\" class=\"dataframe\">\n",
       "  <thead>\n",
       "    <tr style=\"text-align: right;\">\n",
       "      <th></th>\n",
       "      <th>id</th>\n",
       "      <th>member_id</th>\n",
       "      <th>loan_amnt</th>\n",
       "      <th>funded_amnt</th>\n",
       "      <th>funded_amnt_inv</th>\n",
       "      <th>term</th>\n",
       "      <th>int_rate</th>\n",
       "      <th>installment</th>\n",
       "      <th>grade</th>\n",
       "      <th>sub_grade</th>\n",
       "      <th>...</th>\n",
       "      <th>hardship_payoff_balance_amount</th>\n",
       "      <th>hardship_last_payment_amount</th>\n",
       "      <th>disbursement_method</th>\n",
       "      <th>debt_settlement_flag</th>\n",
       "      <th>debt_settlement_flag_date</th>\n",
       "      <th>settlement_status</th>\n",
       "      <th>settlement_date</th>\n",
       "      <th>settlement_amount</th>\n",
       "      <th>settlement_percentage</th>\n",
       "      <th>settlement_term</th>\n",
       "    </tr>\n",
       "  </thead>\n",
       "  <tbody>\n",
       "    <tr>\n",
       "      <th>99995</th>\n",
       "      <td>22454240</td>\n",
       "      <td>NaN</td>\n",
       "      <td>8400.0</td>\n",
       "      <td>8400.0</td>\n",
       "      <td>8400.0</td>\n",
       "      <td>36 months</td>\n",
       "      <td>9.17</td>\n",
       "      <td>267.79</td>\n",
       "      <td>B</td>\n",
       "      <td>B1</td>\n",
       "      <td>...</td>\n",
       "      <td>NaN</td>\n",
       "      <td>NaN</td>\n",
       "      <td>Cash</td>\n",
       "      <td>N</td>\n",
       "      <td>NaN</td>\n",
       "      <td>NaN</td>\n",
       "      <td>NaN</td>\n",
       "      <td>NaN</td>\n",
       "      <td>NaN</td>\n",
       "      <td>NaN</td>\n",
       "    </tr>\n",
       "    <tr>\n",
       "      <th>99996</th>\n",
       "      <td>11396920</td>\n",
       "      <td>NaN</td>\n",
       "      <td>10000.0</td>\n",
       "      <td>10000.0</td>\n",
       "      <td>10000.0</td>\n",
       "      <td>36 months</td>\n",
       "      <td>12.99</td>\n",
       "      <td>336.90</td>\n",
       "      <td>C</td>\n",
       "      <td>C1</td>\n",
       "      <td>...</td>\n",
       "      <td>NaN</td>\n",
       "      <td>NaN</td>\n",
       "      <td>Cash</td>\n",
       "      <td>N</td>\n",
       "      <td>NaN</td>\n",
       "      <td>NaN</td>\n",
       "      <td>NaN</td>\n",
       "      <td>NaN</td>\n",
       "      <td>NaN</td>\n",
       "      <td>NaN</td>\n",
       "    </tr>\n",
       "    <tr>\n",
       "      <th>99997</th>\n",
       "      <td>8556176</td>\n",
       "      <td>NaN</td>\n",
       "      <td>30000.0</td>\n",
       "      <td>30000.0</td>\n",
       "      <td>30000.0</td>\n",
       "      <td>60 months</td>\n",
       "      <td>20.99</td>\n",
       "      <td>811.44</td>\n",
       "      <td>E</td>\n",
       "      <td>E4</td>\n",
       "      <td>...</td>\n",
       "      <td>NaN</td>\n",
       "      <td>NaN</td>\n",
       "      <td>Cash</td>\n",
       "      <td>N</td>\n",
       "      <td>NaN</td>\n",
       "      <td>NaN</td>\n",
       "      <td>NaN</td>\n",
       "      <td>NaN</td>\n",
       "      <td>NaN</td>\n",
       "      <td>NaN</td>\n",
       "    </tr>\n",
       "    <tr>\n",
       "      <th>99998</th>\n",
       "      <td>24023408</td>\n",
       "      <td>NaN</td>\n",
       "      <td>8475.0</td>\n",
       "      <td>8475.0</td>\n",
       "      <td>8475.0</td>\n",
       "      <td>36 months</td>\n",
       "      <td>24.99</td>\n",
       "      <td>336.92</td>\n",
       "      <td>F</td>\n",
       "      <td>F4</td>\n",
       "      <td>...</td>\n",
       "      <td>NaN</td>\n",
       "      <td>NaN</td>\n",
       "      <td>Cash</td>\n",
       "      <td>N</td>\n",
       "      <td>NaN</td>\n",
       "      <td>NaN</td>\n",
       "      <td>NaN</td>\n",
       "      <td>NaN</td>\n",
       "      <td>NaN</td>\n",
       "      <td>NaN</td>\n",
       "    </tr>\n",
       "    <tr>\n",
       "      <th>99999</th>\n",
       "      <td>24023398</td>\n",
       "      <td>NaN</td>\n",
       "      <td>25000.0</td>\n",
       "      <td>25000.0</td>\n",
       "      <td>25000.0</td>\n",
       "      <td>36 months</td>\n",
       "      <td>10.15</td>\n",
       "      <td>808.45</td>\n",
       "      <td>B</td>\n",
       "      <td>B2</td>\n",
       "      <td>...</td>\n",
       "      <td>NaN</td>\n",
       "      <td>NaN</td>\n",
       "      <td>Cash</td>\n",
       "      <td>N</td>\n",
       "      <td>NaN</td>\n",
       "      <td>NaN</td>\n",
       "      <td>NaN</td>\n",
       "      <td>NaN</td>\n",
       "      <td>NaN</td>\n",
       "      <td>NaN</td>\n",
       "    </tr>\n",
       "  </tbody>\n",
       "</table>\n",
       "<p>5 rows × 150 columns</p>\n",
       "</div>"
      ],
      "text/plain": [
       "             id  member_id  loan_amnt  funded_amnt  funded_amnt_inv  \\\n",
       "99995  22454240        NaN     8400.0       8400.0           8400.0   \n",
       "99996  11396920        NaN    10000.0      10000.0          10000.0   \n",
       "99997   8556176        NaN    30000.0      30000.0          30000.0   \n",
       "99998  24023408        NaN     8475.0       8475.0           8475.0   \n",
       "99999  24023398        NaN    25000.0      25000.0          25000.0   \n",
       "\n",
       "             term  int_rate  installment grade sub_grade  ...  \\\n",
       "99995   36 months      9.17       267.79     B        B1  ...   \n",
       "99996   36 months     12.99       336.90     C        C1  ...   \n",
       "99997   60 months     20.99       811.44     E        E4  ...   \n",
       "99998   36 months     24.99       336.92     F        F4  ...   \n",
       "99999   36 months     10.15       808.45     B        B2  ...   \n",
       "\n",
       "      hardship_payoff_balance_amount hardship_last_payment_amount  \\\n",
       "99995                            NaN                          NaN   \n",
       "99996                            NaN                          NaN   \n",
       "99997                            NaN                          NaN   \n",
       "99998                            NaN                          NaN   \n",
       "99999                            NaN                          NaN   \n",
       "\n",
       "      disbursement_method  debt_settlement_flag debt_settlement_flag_date  \\\n",
       "99995                Cash                     N                       NaN   \n",
       "99996                Cash                     N                       NaN   \n",
       "99997                Cash                     N                       NaN   \n",
       "99998                Cash                     N                       NaN   \n",
       "99999                Cash                     N                       NaN   \n",
       "\n",
       "      settlement_status settlement_date settlement_amount  \\\n",
       "99995               NaN             NaN               NaN   \n",
       "99996               NaN             NaN               NaN   \n",
       "99997               NaN             NaN               NaN   \n",
       "99998               NaN             NaN               NaN   \n",
       "99999               NaN             NaN               NaN   \n",
       "\n",
       "      settlement_percentage settlement_term  \n",
       "99995                   NaN             NaN  \n",
       "99996                   NaN             NaN  \n",
       "99997                   NaN             NaN  \n",
       "99998                   NaN             NaN  \n",
       "99999                   NaN             NaN  \n",
       "\n",
       "[5 rows x 150 columns]"
      ]
     },
     "execution_count": 7,
     "metadata": {},
     "output_type": "execute_result"
    }
   ],
   "source": [
    "dataset.tail()"
   ]
  },
  {
   "cell_type": "markdown",
   "metadata": {},
   "source": [
    "### Examine the properties of the data frame"
   ]
  },
  {
   "cell_type": "code",
   "execution_count": 8,
   "metadata": {},
   "outputs": [
    {
     "data": {
      "text/plain": [
       "(100000, 150)"
      ]
     },
     "execution_count": 8,
     "metadata": {},
     "output_type": "execute_result"
    }
   ],
   "source": [
    "dataset.shape"
   ]
  },
  {
   "cell_type": "code",
   "execution_count": 9,
   "metadata": {},
   "outputs": [
    {
     "name": "stdout",
     "output_type": "stream",
     "text": [
      "<class 'pandas.core.frame.DataFrame'>\n",
      "RangeIndex: 100000 entries, 0 to 99999\n",
      "Columns: 150 entries, id to settlement_term\n",
      "dtypes: float64(115), int64(1), object(34)\n",
      "memory usage: 114.4+ MB\n"
     ]
    }
   ],
   "source": [
    "dataset.info()"
   ]
  },
  {
   "cell_type": "code",
   "execution_count": 10,
   "metadata": {},
   "outputs": [
    {
     "data": {
      "text/html": [
       "<div>\n",
       "<style scoped>\n",
       "    .dataframe tbody tr th:only-of-type {\n",
       "        vertical-align: middle;\n",
       "    }\n",
       "\n",
       "    .dataframe tbody tr th {\n",
       "        vertical-align: top;\n",
       "    }\n",
       "\n",
       "    .dataframe thead th {\n",
       "        text-align: right;\n",
       "    }\n",
       "</style>\n",
       "<table border=\"1\" class=\"dataframe\">\n",
       "  <thead>\n",
       "    <tr style=\"text-align: right;\">\n",
       "      <th></th>\n",
       "      <th>id</th>\n",
       "      <th>member_id</th>\n",
       "      <th>loan_amnt</th>\n",
       "      <th>funded_amnt</th>\n",
       "      <th>funded_amnt_inv</th>\n",
       "      <th>int_rate</th>\n",
       "      <th>installment</th>\n",
       "      <th>annual_inc</th>\n",
       "      <th>dti</th>\n",
       "      <th>delinq_2yrs</th>\n",
       "      <th>...</th>\n",
       "      <th>deferral_term</th>\n",
       "      <th>hardship_amount</th>\n",
       "      <th>hardship_length</th>\n",
       "      <th>hardship_dpd</th>\n",
       "      <th>orig_projected_additional_accrued_interest</th>\n",
       "      <th>hardship_payoff_balance_amount</th>\n",
       "      <th>hardship_last_payment_amount</th>\n",
       "      <th>settlement_amount</th>\n",
       "      <th>settlement_percentage</th>\n",
       "      <th>settlement_term</th>\n",
       "    </tr>\n",
       "  </thead>\n",
       "  <tbody>\n",
       "    <tr>\n",
       "      <th>count</th>\n",
       "      <td>1.000000e+05</td>\n",
       "      <td>0.0</td>\n",
       "      <td>100000.000000</td>\n",
       "      <td>100000.000000</td>\n",
       "      <td>100000.000000</td>\n",
       "      <td>100000.000000</td>\n",
       "      <td>100000.000000</td>\n",
       "      <td>1.000000e+05</td>\n",
       "      <td>100000.000000</td>\n",
       "      <td>100000.000000</td>\n",
       "      <td>...</td>\n",
       "      <td>185.0</td>\n",
       "      <td>185.000000</td>\n",
       "      <td>185.0</td>\n",
       "      <td>185.000000</td>\n",
       "      <td>152.000000</td>\n",
       "      <td>185.000000</td>\n",
       "      <td>185.000000</td>\n",
       "      <td>1290.000000</td>\n",
       "      <td>1290.000000</td>\n",
       "      <td>1290.000000</td>\n",
       "    </tr>\n",
       "    <tr>\n",
       "      <th>mean</th>\n",
       "      <td>3.029995e+07</td>\n",
       "      <td>NaN</td>\n",
       "      <td>14886.930000</td>\n",
       "      <td>14886.930000</td>\n",
       "      <td>14883.910500</td>\n",
       "      <td>13.278073</td>\n",
       "      <td>437.331824</td>\n",
       "      <td>7.468924e+04</td>\n",
       "      <td>18.769787</td>\n",
       "      <td>0.343920</td>\n",
       "      <td>...</td>\n",
       "      <td>3.0</td>\n",
       "      <td>110.335568</td>\n",
       "      <td>3.0</td>\n",
       "      <td>14.037838</td>\n",
       "      <td>323.495132</td>\n",
       "      <td>8046.616541</td>\n",
       "      <td>186.563135</td>\n",
       "      <td>4768.376357</td>\n",
       "      <td>47.720519</td>\n",
       "      <td>8.265116</td>\n",
       "    </tr>\n",
       "    <tr>\n",
       "      <th>std</th>\n",
       "      <td>4.763500e+06</td>\n",
       "      <td>NaN</td>\n",
       "      <td>8504.432514</td>\n",
       "      <td>8504.432514</td>\n",
       "      <td>8502.519174</td>\n",
       "      <td>4.390210</td>\n",
       "      <td>244.317648</td>\n",
       "      <td>5.809527e+04</td>\n",
       "      <td>8.539769</td>\n",
       "      <td>0.906525</td>\n",
       "      <td>...</td>\n",
       "      <td>0.0</td>\n",
       "      <td>89.266601</td>\n",
       "      <td>0.0</td>\n",
       "      <td>9.657374</td>\n",
       "      <td>267.627244</td>\n",
       "      <td>5585.653253</td>\n",
       "      <td>168.552986</td>\n",
       "      <td>3703.963945</td>\n",
       "      <td>7.046587</td>\n",
       "      <td>8.263566</td>\n",
       "    </tr>\n",
       "    <tr>\n",
       "      <th>min</th>\n",
       "      <td>5.716700e+04</td>\n",
       "      <td>NaN</td>\n",
       "      <td>1000.000000</td>\n",
       "      <td>1000.000000</td>\n",
       "      <td>1000.000000</td>\n",
       "      <td>6.000000</td>\n",
       "      <td>30.420000</td>\n",
       "      <td>4.000000e+03</td>\n",
       "      <td>0.000000</td>\n",
       "      <td>0.000000</td>\n",
       "      <td>...</td>\n",
       "      <td>3.0</td>\n",
       "      <td>1.470000</td>\n",
       "      <td>3.0</td>\n",
       "      <td>0.000000</td>\n",
       "      <td>4.410000</td>\n",
       "      <td>174.150000</td>\n",
       "      <td>0.040000</td>\n",
       "      <td>233.160000</td>\n",
       "      <td>0.550000</td>\n",
       "      <td>0.000000</td>\n",
       "    </tr>\n",
       "    <tr>\n",
       "      <th>25%</th>\n",
       "      <td>2.737015e+07</td>\n",
       "      <td>NaN</td>\n",
       "      <td>8000.000000</td>\n",
       "      <td>8000.000000</td>\n",
       "      <td>8000.000000</td>\n",
       "      <td>10.150000</td>\n",
       "      <td>261.640000</td>\n",
       "      <td>4.500000e+04</td>\n",
       "      <td>12.320000</td>\n",
       "      <td>0.000000</td>\n",
       "      <td>...</td>\n",
       "      <td>3.0</td>\n",
       "      <td>23.760000</td>\n",
       "      <td>3.0</td>\n",
       "      <td>7.000000</td>\n",
       "      <td>63.885000</td>\n",
       "      <td>2465.360000</td>\n",
       "      <td>27.610000</td>\n",
       "      <td>1951.125000</td>\n",
       "      <td>45.000000</td>\n",
       "      <td>0.000000</td>\n",
       "    </tr>\n",
       "    <tr>\n",
       "      <th>50%</th>\n",
       "      <td>3.052556e+07</td>\n",
       "      <td>NaN</td>\n",
       "      <td>13050.000000</td>\n",
       "      <td>13050.000000</td>\n",
       "      <td>13050.000000</td>\n",
       "      <td>12.990000</td>\n",
       "      <td>380.180000</td>\n",
       "      <td>6.400000e+04</td>\n",
       "      <td>18.210000</td>\n",
       "      <td>0.000000</td>\n",
       "      <td>...</td>\n",
       "      <td>3.0</td>\n",
       "      <td>96.580000</td>\n",
       "      <td>3.0</td>\n",
       "      <td>15.000000</td>\n",
       "      <td>281.580000</td>\n",
       "      <td>8049.850000</td>\n",
       "      <td>172.460000</td>\n",
       "      <td>3881.120000</td>\n",
       "      <td>45.040000</td>\n",
       "      <td>6.000000</td>\n",
       "    </tr>\n",
       "    <tr>\n",
       "      <th>75%</th>\n",
       "      <td>3.438201e+07</td>\n",
       "      <td>NaN</td>\n",
       "      <td>20000.000000</td>\n",
       "      <td>20000.000000</td>\n",
       "      <td>20000.000000</td>\n",
       "      <td>15.610000</td>\n",
       "      <td>573.320000</td>\n",
       "      <td>9.000000e+04</td>\n",
       "      <td>24.760000</td>\n",
       "      <td>0.000000</td>\n",
       "      <td>...</td>\n",
       "      <td>3.0</td>\n",
       "      <td>164.750000</td>\n",
       "      <td>3.0</td>\n",
       "      <td>22.000000</td>\n",
       "      <td>481.492500</td>\n",
       "      <td>11968.940000</td>\n",
       "      <td>285.890000</td>\n",
       "      <td>6503.000000</td>\n",
       "      <td>50.000000</td>\n",
       "      <td>14.000000</td>\n",
       "    </tr>\n",
       "    <tr>\n",
       "      <th>max</th>\n",
       "      <td>3.809811e+07</td>\n",
       "      <td>NaN</td>\n",
       "      <td>35000.000000</td>\n",
       "      <td>35000.000000</td>\n",
       "      <td>35000.000000</td>\n",
       "      <td>26.060000</td>\n",
       "      <td>1408.130000</td>\n",
       "      <td>7.500000e+06</td>\n",
       "      <td>39.990000</td>\n",
       "      <td>22.000000</td>\n",
       "      <td>...</td>\n",
       "      <td>3.0</td>\n",
       "      <td>382.340000</td>\n",
       "      <td>3.0</td>\n",
       "      <td>32.000000</td>\n",
       "      <td>1147.020000</td>\n",
       "      <td>21750.750000</td>\n",
       "      <td>757.420000</td>\n",
       "      <td>26751.740000</td>\n",
       "      <td>100.000000</td>\n",
       "      <td>36.000000</td>\n",
       "    </tr>\n",
       "  </tbody>\n",
       "</table>\n",
       "<p>8 rows × 116 columns</p>\n",
       "</div>"
      ],
      "text/plain": [
       "                 id  member_id      loan_amnt    funded_amnt  funded_amnt_inv  \\\n",
       "count  1.000000e+05        0.0  100000.000000  100000.000000    100000.000000   \n",
       "mean   3.029995e+07        NaN   14886.930000   14886.930000     14883.910500   \n",
       "std    4.763500e+06        NaN    8504.432514    8504.432514      8502.519174   \n",
       "min    5.716700e+04        NaN    1000.000000    1000.000000      1000.000000   \n",
       "25%    2.737015e+07        NaN    8000.000000    8000.000000      8000.000000   \n",
       "50%    3.052556e+07        NaN   13050.000000   13050.000000     13050.000000   \n",
       "75%    3.438201e+07        NaN   20000.000000   20000.000000     20000.000000   \n",
       "max    3.809811e+07        NaN   35000.000000   35000.000000     35000.000000   \n",
       "\n",
       "            int_rate    installment    annual_inc            dti  \\\n",
       "count  100000.000000  100000.000000  1.000000e+05  100000.000000   \n",
       "mean       13.278073     437.331824  7.468924e+04      18.769787   \n",
       "std         4.390210     244.317648  5.809527e+04       8.539769   \n",
       "min         6.000000      30.420000  4.000000e+03       0.000000   \n",
       "25%        10.150000     261.640000  4.500000e+04      12.320000   \n",
       "50%        12.990000     380.180000  6.400000e+04      18.210000   \n",
       "75%        15.610000     573.320000  9.000000e+04      24.760000   \n",
       "max        26.060000    1408.130000  7.500000e+06      39.990000   \n",
       "\n",
       "         delinq_2yrs  ...  deferral_term  hardship_amount  hardship_length  \\\n",
       "count  100000.000000  ...          185.0       185.000000            185.0   \n",
       "mean        0.343920  ...            3.0       110.335568              3.0   \n",
       "std         0.906525  ...            0.0        89.266601              0.0   \n",
       "min         0.000000  ...            3.0         1.470000              3.0   \n",
       "25%         0.000000  ...            3.0        23.760000              3.0   \n",
       "50%         0.000000  ...            3.0        96.580000              3.0   \n",
       "75%         0.000000  ...            3.0       164.750000              3.0   \n",
       "max        22.000000  ...            3.0       382.340000              3.0   \n",
       "\n",
       "       hardship_dpd  orig_projected_additional_accrued_interest  \\\n",
       "count    185.000000                                  152.000000   \n",
       "mean      14.037838                                  323.495132   \n",
       "std        9.657374                                  267.627244   \n",
       "min        0.000000                                    4.410000   \n",
       "25%        7.000000                                   63.885000   \n",
       "50%       15.000000                                  281.580000   \n",
       "75%       22.000000                                  481.492500   \n",
       "max       32.000000                                 1147.020000   \n",
       "\n",
       "       hardship_payoff_balance_amount  hardship_last_payment_amount  \\\n",
       "count                      185.000000                    185.000000   \n",
       "mean                      8046.616541                    186.563135   \n",
       "std                       5585.653253                    168.552986   \n",
       "min                        174.150000                      0.040000   \n",
       "25%                       2465.360000                     27.610000   \n",
       "50%                       8049.850000                    172.460000   \n",
       "75%                      11968.940000                    285.890000   \n",
       "max                      21750.750000                    757.420000   \n",
       "\n",
       "       settlement_amount  settlement_percentage  settlement_term  \n",
       "count        1290.000000            1290.000000      1290.000000  \n",
       "mean         4768.376357              47.720519         8.265116  \n",
       "std          3703.963945               7.046587         8.263566  \n",
       "min           233.160000               0.550000         0.000000  \n",
       "25%          1951.125000              45.000000         0.000000  \n",
       "50%          3881.120000              45.040000         6.000000  \n",
       "75%          6503.000000              50.000000        14.000000  \n",
       "max         26751.740000             100.000000        36.000000  \n",
       "\n",
       "[8 rows x 116 columns]"
      ]
     },
     "execution_count": 10,
     "metadata": {},
     "output_type": "execute_result"
    }
   ],
   "source": [
    "dataset.describe()"
   ]
  },
  {
   "cell_type": "code",
   "execution_count": 11,
   "metadata": {},
   "outputs": [
    {
     "data": {
      "text/plain": [
       "id                            0\n",
       "member_id                100000\n",
       "loan_amnt                     0\n",
       "funded_amnt                   0\n",
       "funded_amnt_inv               0\n",
       "                          ...  \n",
       "settlement_status         98710\n",
       "settlement_date           98710\n",
       "settlement_amount         98710\n",
       "settlement_percentage     98710\n",
       "settlement_term           98710\n",
       "Length: 150, dtype: int64"
      ]
     },
     "execution_count": 11,
     "metadata": {},
     "output_type": "execute_result"
    }
   ],
   "source": [
    "dataset.isnull().sum()"
   ]
  },
  {
   "cell_type": "code",
   "execution_count": 12,
   "metadata": {},
   "outputs": [
    {
     "data": {
      "text/plain": [
       "Index(['id', 'member_id', 'loan_amnt', 'funded_amnt', 'funded_amnt_inv',\n",
       "       'term', 'int_rate', 'installment', 'grade', 'sub_grade',\n",
       "       ...\n",
       "       'hardship_payoff_balance_amount', 'hardship_last_payment_amount',\n",
       "       'disbursement_method', 'debt_settlement_flag',\n",
       "       'debt_settlement_flag_date', 'settlement_status', 'settlement_date',\n",
       "       'settlement_amount', 'settlement_percentage', 'settlement_term'],\n",
       "      dtype='object', length=150)"
      ]
     },
     "execution_count": 12,
     "metadata": {},
     "output_type": "execute_result"
    }
   ],
   "source": [
    "dataset.columns"
   ]
  },
  {
   "cell_type": "markdown",
   "metadata": {},
   "source": [
    "<a id='2'></a>\n",
    "## 3. Data Preparation and Feature Selection"
   ]
  },
  {
   "cell_type": "markdown",
   "metadata": {},
   "source": [
    "<a id='2.1'></a>\n",
    "## 3.1. Preparing the predicted variable\n"
   ]
  },
  {
   "cell_type": "code",
   "execution_count": 13,
   "metadata": {
    "scrolled": true
   },
   "outputs": [
    {
     "data": {
      "text/plain": [
       "Fully Paid            69982\n",
       "Charged Off           16156\n",
       "Current               12726\n",
       "Late (31-120 days)      730\n",
       "In Grace Period         264\n",
       "Late (16-30 days)       139\n",
       "Default                   3\n",
       "Name: loan_status, dtype: int64"
      ]
     },
     "execution_count": 13,
     "metadata": {},
     "output_type": "execute_result"
    }
   ],
   "source": [
    "dataset['loan_status'].value_counts()"
   ]
  },
  {
   "cell_type": "code",
   "execution_count": 14,
   "metadata": {},
   "outputs": [
    {
     "data": {
      "text/plain": [
       "Fully Paid     69982\n",
       "Charged Off    16156\n",
       "Name: loan_status, dtype: int64"
      ]
     },
     "execution_count": 14,
     "metadata": {},
     "output_type": "execute_result"
    }
   ],
   "source": [
    "dataset = dataset[dataset['loan_status'].isin(['Fully Paid', 'Charged Off'])]\n",
    "dataset['loan_status'].value_counts()"
   ]
  },
  {
   "cell_type": "code",
   "execution_count": 15,
   "metadata": {},
   "outputs": [
    {
     "name": "stdout",
     "output_type": "stream",
     "text": [
      "Percentage distribution:\n",
      "Fully Paid     81.24405\n",
      "Charged Off    18.75595\n",
      "Name: loan_status, dtype: float64\n"
     ]
    }
   ],
   "source": [
    "loan_status_counts = dataset['loan_status'].value_counts()\n",
    "loan_status_percentages = (loan_status_counts / dataset.shape[0]) * 100\n",
    "\n",
    "print('Percentage distribution:')\n",
    "print(loan_status_percentages)"
   ]
  },
  {
   "cell_type": "markdown",
   "metadata": {},
   "source": [
    "It appears to be an imbalanced dataset, with approximately an 80%/20% split."
   ]
  },
  {
   "cell_type": "code",
   "execution_count": 16,
   "metadata": {},
   "outputs": [],
   "source": [
    "dataset['loan_status'] = dataset['loan_status'].map({'Charged Off':1, 'Fully Paid':0})"
   ]
  },
  {
   "cell_type": "markdown",
   "metadata": {},
   "source": [
    "<a id='2.2'></a>\n",
    "## 3.2. Feature Selection-Limit the Feature Space "
   ]
  },
  {
   "cell_type": "markdown",
   "metadata": {},
   "source": [
    "The full dataset has 150 features for each\n",
    "loan. We’ll eliminate\n",
    "features in following steps using three different approaches:\n",
    "* Eliminate feature that have more than 30% missing values.\n",
    "* Eliminate features that are unintuitive based on subjective judgement - I will give you these.\n",
    "* Eliminate features with low correlation with the predicted variable"
   ]
  },
  {
   "cell_type": "markdown",
   "metadata": {},
   "source": [
    "<a id='2.2.1'></a>\n",
    "### 3.2.1.  Features elimination by significant missing values"
   ]
  },
  {
   "cell_type": "markdown",
   "metadata": {},
   "source": [
    "### Calculating the percentage of missing data for each feature using isnull().mean():"
   ]
  },
  {
   "cell_type": "code",
   "execution_count": 17,
   "metadata": {},
   "outputs": [
    {
     "name": "stdout",
     "output_type": "stream",
     "text": [
      "id                         0.000000\n",
      "member_id                100.000000\n",
      "loan_amnt                  0.000000\n",
      "funded_amnt                0.000000\n",
      "funded_amnt_inv            0.000000\n",
      "                            ...    \n",
      "settlement_status         98.540714\n",
      "settlement_date           98.540714\n",
      "settlement_amount         98.540714\n",
      "settlement_percentage     98.540714\n",
      "settlement_term           98.540714\n",
      "Length: 150, dtype: float64\n"
     ]
    }
   ],
   "source": [
    "missing_data = dataset.isnull().mean()*100\n",
    "print(missing_data)"
   ]
  },
  {
   "cell_type": "markdown",
   "metadata": {},
   "source": [
    "### We drop the columns with more than 30% of missing data."
   ]
  },
  {
   "cell_type": "code",
   "execution_count": 18,
   "metadata": {},
   "outputs": [],
   "source": [
    "columns_to_drop = missing_data[missing_data > 30].index"
   ]
  },
  {
   "cell_type": "code",
   "execution_count": 19,
   "metadata": {},
   "outputs": [],
   "source": [
    "dataset = dataset.drop(columns = columns_to_drop)"
   ]
  },
  {
   "cell_type": "code",
   "execution_count": 20,
   "metadata": {},
   "outputs": [
    {
     "data": {
      "text/plain": [
       "(86138, 92)"
      ]
     },
     "execution_count": 20,
     "metadata": {},
     "output_type": "execute_result"
    }
   ],
   "source": [
    "dataset.shape"
   ]
  },
  {
   "cell_type": "markdown",
   "metadata": {},
   "source": [
    "<a id='2.2.2'></a>\n",
    "### 3.2.2.  Features elimination based on the intutiveness"
   ]
  },
  {
   "cell_type": "code",
   "execution_count": 21,
   "metadata": {},
   "outputs": [],
   "source": [
    "keep_list = ['funded_amnt','addr_state', 'annual_inc', 'application_type', \n",
    "             'dti', 'earliest_cr_line', 'emp_length', 'emp_title', 'fico_range_high', \n",
    "             'fico_range_low', 'grade', 'home_ownership', 'id', 'initial_list_status', \n",
    "             'installment', 'int_rate', 'loan_amnt', 'loan_status', 'mort_acc', 'open_acc', \n",
    "             'pub_rec', 'pub_rec_bankruptcies', 'purpose', 'revol_bal', 'revol_util', \n",
    "             'sub_grade', 'term', 'title', 'total_acc', 'verification_status', 'zip_code',\n",
    "             'last_pymnt_amnt','num_actv_rev_tl', 'mo_sin_rcnt_rev_tl_op','mo_sin_old_rev_tl_op',\n",
    "             \"bc_util\",\"bc_open_to_buy\",\"avg_cur_bal\",\"acc_open_past_24mths\" ]"
   ]
  },
  {
   "cell_type": "markdown",
   "metadata": {},
   "source": [
    "We had to remove 'charged_off' because it is not a feature; rather, it is a value within the 'loan_status' feature."
   ]
  },
  {
   "cell_type": "markdown",
   "metadata": {},
   "source": [
    "### We drop all of the features except these ones from the dataset."
   ]
  },
  {
   "cell_type": "code",
   "execution_count": 22,
   "metadata": {},
   "outputs": [
    {
     "data": {
      "text/html": [
       "<div>\n",
       "<style scoped>\n",
       "    .dataframe tbody tr th:only-of-type {\n",
       "        vertical-align: middle;\n",
       "    }\n",
       "\n",
       "    .dataframe tbody tr th {\n",
       "        vertical-align: top;\n",
       "    }\n",
       "\n",
       "    .dataframe thead th {\n",
       "        text-align: right;\n",
       "    }\n",
       "</style>\n",
       "<table border=\"1\" class=\"dataframe\">\n",
       "  <thead>\n",
       "    <tr style=\"text-align: right;\">\n",
       "      <th></th>\n",
       "      <th>funded_amnt</th>\n",
       "      <th>addr_state</th>\n",
       "      <th>annual_inc</th>\n",
       "      <th>application_type</th>\n",
       "      <th>dti</th>\n",
       "      <th>earliest_cr_line</th>\n",
       "      <th>emp_length</th>\n",
       "      <th>emp_title</th>\n",
       "      <th>fico_range_high</th>\n",
       "      <th>fico_range_low</th>\n",
       "      <th>...</th>\n",
       "      <th>verification_status</th>\n",
       "      <th>zip_code</th>\n",
       "      <th>last_pymnt_amnt</th>\n",
       "      <th>num_actv_rev_tl</th>\n",
       "      <th>mo_sin_rcnt_rev_tl_op</th>\n",
       "      <th>mo_sin_old_rev_tl_op</th>\n",
       "      <th>bc_util</th>\n",
       "      <th>bc_open_to_buy</th>\n",
       "      <th>avg_cur_bal</th>\n",
       "      <th>acc_open_past_24mths</th>\n",
       "    </tr>\n",
       "  </thead>\n",
       "  <tbody>\n",
       "    <tr>\n",
       "      <th>0</th>\n",
       "      <td>15000.0</td>\n",
       "      <td>VA</td>\n",
       "      <td>78000.0</td>\n",
       "      <td>Individual</td>\n",
       "      <td>12.03</td>\n",
       "      <td>Aug-1994</td>\n",
       "      <td>10+ years</td>\n",
       "      <td>MANAGEMENT</td>\n",
       "      <td>754.0</td>\n",
       "      <td>750.0</td>\n",
       "      <td>...</td>\n",
       "      <td>Source Verified</td>\n",
       "      <td>235xx</td>\n",
       "      <td>12017.81</td>\n",
       "      <td>4.0</td>\n",
       "      <td>1.0</td>\n",
       "      <td>244.0</td>\n",
       "      <td>4.7</td>\n",
       "      <td>9525.0</td>\n",
       "      <td>29828.0</td>\n",
       "      <td>5.0</td>\n",
       "    </tr>\n",
       "    <tr>\n",
       "      <th>1</th>\n",
       "      <td>10400.0</td>\n",
       "      <td>CA</td>\n",
       "      <td>58000.0</td>\n",
       "      <td>Individual</td>\n",
       "      <td>14.92</td>\n",
       "      <td>Sep-1989</td>\n",
       "      <td>8 years</td>\n",
       "      <td>Truck Driver Delivery Personel</td>\n",
       "      <td>714.0</td>\n",
       "      <td>710.0</td>\n",
       "      <td>...</td>\n",
       "      <td>Not Verified</td>\n",
       "      <td>937xx</td>\n",
       "      <td>321.08</td>\n",
       "      <td>9.0</td>\n",
       "      <td>1.0</td>\n",
       "      <td>290.0</td>\n",
       "      <td>41.5</td>\n",
       "      <td>7599.0</td>\n",
       "      <td>9536.0</td>\n",
       "      <td>7.0</td>\n",
       "    </tr>\n",
       "    <tr>\n",
       "      <th>2</th>\n",
       "      <td>21425.0</td>\n",
       "      <td>MO</td>\n",
       "      <td>63800.0</td>\n",
       "      <td>Individual</td>\n",
       "      <td>18.49</td>\n",
       "      <td>Aug-2003</td>\n",
       "      <td>6 years</td>\n",
       "      <td>Programming Analysis Supervisor</td>\n",
       "      <td>689.0</td>\n",
       "      <td>685.0</td>\n",
       "      <td>...</td>\n",
       "      <td>Source Verified</td>\n",
       "      <td>658xx</td>\n",
       "      <td>17813.19</td>\n",
       "      <td>4.0</td>\n",
       "      <td>7.0</td>\n",
       "      <td>136.0</td>\n",
       "      <td>97.8</td>\n",
       "      <td>324.0</td>\n",
       "      <td>4232.0</td>\n",
       "      <td>4.0</td>\n",
       "    </tr>\n",
       "    <tr>\n",
       "      <th>4</th>\n",
       "      <td>7650.0</td>\n",
       "      <td>AZ</td>\n",
       "      <td>50000.0</td>\n",
       "      <td>Individual</td>\n",
       "      <td>34.81</td>\n",
       "      <td>Aug-2002</td>\n",
       "      <td>&lt; 1 year</td>\n",
       "      <td>Technical Specialist</td>\n",
       "      <td>689.0</td>\n",
       "      <td>685.0</td>\n",
       "      <td>...</td>\n",
       "      <td>Source Verified</td>\n",
       "      <td>850xx</td>\n",
       "      <td>17.70</td>\n",
       "      <td>4.0</td>\n",
       "      <td>8.0</td>\n",
       "      <td>148.0</td>\n",
       "      <td>93.2</td>\n",
       "      <td>332.0</td>\n",
       "      <td>5857.0</td>\n",
       "      <td>6.0</td>\n",
       "    </tr>\n",
       "    <tr>\n",
       "      <th>5</th>\n",
       "      <td>9600.0</td>\n",
       "      <td>NJ</td>\n",
       "      <td>69000.0</td>\n",
       "      <td>Individual</td>\n",
       "      <td>25.81</td>\n",
       "      <td>Nov-1992</td>\n",
       "      <td>10+ years</td>\n",
       "      <td>Admin Specialist</td>\n",
       "      <td>684.0</td>\n",
       "      <td>680.0</td>\n",
       "      <td>...</td>\n",
       "      <td>Source Verified</td>\n",
       "      <td>077xx</td>\n",
       "      <td>9338.58</td>\n",
       "      <td>7.0</td>\n",
       "      <td>23.0</td>\n",
       "      <td>265.0</td>\n",
       "      <td>69.2</td>\n",
       "      <td>6494.0</td>\n",
       "      <td>3214.0</td>\n",
       "      <td>8.0</td>\n",
       "    </tr>\n",
       "  </tbody>\n",
       "</table>\n",
       "<p>5 rows × 39 columns</p>\n",
       "</div>"
      ],
      "text/plain": [
       "   funded_amnt addr_state  annual_inc application_type    dti  \\\n",
       "0      15000.0         VA     78000.0       Individual  12.03   \n",
       "1      10400.0         CA     58000.0       Individual  14.92   \n",
       "2      21425.0         MO     63800.0       Individual  18.49   \n",
       "4       7650.0         AZ     50000.0       Individual  34.81   \n",
       "5       9600.0         NJ     69000.0       Individual  25.81   \n",
       "\n",
       "  earliest_cr_line emp_length                        emp_title  \\\n",
       "0         Aug-1994  10+ years                       MANAGEMENT   \n",
       "1         Sep-1989    8 years   Truck Driver Delivery Personel   \n",
       "2         Aug-2003    6 years  Programming Analysis Supervisor   \n",
       "4         Aug-2002   < 1 year             Technical Specialist   \n",
       "5         Nov-1992  10+ years                 Admin Specialist   \n",
       "\n",
       "   fico_range_high  fico_range_low  ... verification_status zip_code  \\\n",
       "0            754.0           750.0  ...     Source Verified    235xx   \n",
       "1            714.0           710.0  ...        Not Verified    937xx   \n",
       "2            689.0           685.0  ...     Source Verified    658xx   \n",
       "4            689.0           685.0  ...     Source Verified    850xx   \n",
       "5            684.0           680.0  ...     Source Verified    077xx   \n",
       "\n",
       "   last_pymnt_amnt num_actv_rev_tl  mo_sin_rcnt_rev_tl_op  \\\n",
       "0         12017.81             4.0                    1.0   \n",
       "1           321.08             9.0                    1.0   \n",
       "2         17813.19             4.0                    7.0   \n",
       "4            17.70             4.0                    8.0   \n",
       "5          9338.58             7.0                   23.0   \n",
       "\n",
       "   mo_sin_old_rev_tl_op  bc_util  bc_open_to_buy  avg_cur_bal  \\\n",
       "0                 244.0      4.7          9525.0      29828.0   \n",
       "1                 290.0     41.5          7599.0       9536.0   \n",
       "2                 136.0     97.8           324.0       4232.0   \n",
       "4                 148.0     93.2           332.0       5857.0   \n",
       "5                 265.0     69.2          6494.0       3214.0   \n",
       "\n",
       "   acc_open_past_24mths  \n",
       "0                   5.0  \n",
       "1                   7.0  \n",
       "2                   4.0  \n",
       "4                   6.0  \n",
       "5                   8.0  \n",
       "\n",
       "[5 rows x 39 columns]"
      ]
     },
     "execution_count": 22,
     "metadata": {},
     "output_type": "execute_result"
    }
   ],
   "source": [
    "dataset = dataset[keep_list]\n",
    "dataset.head()"
   ]
  },
  {
   "cell_type": "code",
   "execution_count": 23,
   "metadata": {},
   "outputs": [
    {
     "data": {
      "text/html": [
       "<div>\n",
       "<style scoped>\n",
       "    .dataframe tbody tr th:only-of-type {\n",
       "        vertical-align: middle;\n",
       "    }\n",
       "\n",
       "    .dataframe tbody tr th {\n",
       "        vertical-align: top;\n",
       "    }\n",
       "\n",
       "    .dataframe thead th {\n",
       "        text-align: right;\n",
       "    }\n",
       "</style>\n",
       "<table border=\"1\" class=\"dataframe\">\n",
       "  <thead>\n",
       "    <tr style=\"text-align: right;\">\n",
       "      <th></th>\n",
       "      <th>funded_amnt</th>\n",
       "      <th>addr_state</th>\n",
       "      <th>annual_inc</th>\n",
       "      <th>application_type</th>\n",
       "      <th>dti</th>\n",
       "      <th>earliest_cr_line</th>\n",
       "      <th>emp_length</th>\n",
       "      <th>emp_title</th>\n",
       "      <th>fico_range_high</th>\n",
       "      <th>fico_range_low</th>\n",
       "      <th>...</th>\n",
       "      <th>verification_status</th>\n",
       "      <th>zip_code</th>\n",
       "      <th>last_pymnt_amnt</th>\n",
       "      <th>num_actv_rev_tl</th>\n",
       "      <th>mo_sin_rcnt_rev_tl_op</th>\n",
       "      <th>mo_sin_old_rev_tl_op</th>\n",
       "      <th>bc_util</th>\n",
       "      <th>bc_open_to_buy</th>\n",
       "      <th>avg_cur_bal</th>\n",
       "      <th>acc_open_past_24mths</th>\n",
       "    </tr>\n",
       "  </thead>\n",
       "  <tbody>\n",
       "    <tr>\n",
       "      <th>99994</th>\n",
       "      <td>15000.0</td>\n",
       "      <td>AR</td>\n",
       "      <td>84136.0</td>\n",
       "      <td>Individual</td>\n",
       "      <td>10.43</td>\n",
       "      <td>Nov-1984</td>\n",
       "      <td>10+ years</td>\n",
       "      <td>Senior Clinical Business Solutions Analy</td>\n",
       "      <td>704.0</td>\n",
       "      <td>700.0</td>\n",
       "      <td>...</td>\n",
       "      <td>Not Verified</td>\n",
       "      <td>719xx</td>\n",
       "      <td>10584.91</td>\n",
       "      <td>5.0</td>\n",
       "      <td>3.0</td>\n",
       "      <td>356.0</td>\n",
       "      <td>31.3</td>\n",
       "      <td>28091.0</td>\n",
       "      <td>14311.0</td>\n",
       "      <td>5.0</td>\n",
       "    </tr>\n",
       "    <tr>\n",
       "      <th>99995</th>\n",
       "      <td>8400.0</td>\n",
       "      <td>IL</td>\n",
       "      <td>91000.0</td>\n",
       "      <td>Individual</td>\n",
       "      <td>7.78</td>\n",
       "      <td>Aug-1990</td>\n",
       "      <td>2 years</td>\n",
       "      <td>Software Engineer</td>\n",
       "      <td>709.0</td>\n",
       "      <td>705.0</td>\n",
       "      <td>...</td>\n",
       "      <td>Source Verified</td>\n",
       "      <td>606xx</td>\n",
       "      <td>267.50</td>\n",
       "      <td>2.0</td>\n",
       "      <td>5.0</td>\n",
       "      <td>287.0</td>\n",
       "      <td>77.2</td>\n",
       "      <td>2505.0</td>\n",
       "      <td>25364.0</td>\n",
       "      <td>2.0</td>\n",
       "    </tr>\n",
       "    <tr>\n",
       "      <th>99996</th>\n",
       "      <td>10000.0</td>\n",
       "      <td>NM</td>\n",
       "      <td>53133.0</td>\n",
       "      <td>Individual</td>\n",
       "      <td>15.25</td>\n",
       "      <td>May-2001</td>\n",
       "      <td>3 years</td>\n",
       "      <td>Assistant Professor of English</td>\n",
       "      <td>694.0</td>\n",
       "      <td>690.0</td>\n",
       "      <td>...</td>\n",
       "      <td>Not Verified</td>\n",
       "      <td>874xx</td>\n",
       "      <td>5594.78</td>\n",
       "      <td>5.0</td>\n",
       "      <td>5.0</td>\n",
       "      <td>158.0</td>\n",
       "      <td>42.5</td>\n",
       "      <td>13974.0</td>\n",
       "      <td>4219.0</td>\n",
       "      <td>3.0</td>\n",
       "    </tr>\n",
       "    <tr>\n",
       "      <th>99998</th>\n",
       "      <td>8475.0</td>\n",
       "      <td>MO</td>\n",
       "      <td>52000.0</td>\n",
       "      <td>Individual</td>\n",
       "      <td>17.61</td>\n",
       "      <td>Nov-2000</td>\n",
       "      <td>10+ years</td>\n",
       "      <td>Records Examiner Analyst</td>\n",
       "      <td>664.0</td>\n",
       "      <td>660.0</td>\n",
       "      <td>...</td>\n",
       "      <td>Verified</td>\n",
       "      <td>630xx</td>\n",
       "      <td>336.92</td>\n",
       "      <td>3.0</td>\n",
       "      <td>7.0</td>\n",
       "      <td>164.0</td>\n",
       "      <td>88.0</td>\n",
       "      <td>324.0</td>\n",
       "      <td>3125.0</td>\n",
       "      <td>8.0</td>\n",
       "    </tr>\n",
       "    <tr>\n",
       "      <th>99999</th>\n",
       "      <td>25000.0</td>\n",
       "      <td>IN</td>\n",
       "      <td>60000.0</td>\n",
       "      <td>Individual</td>\n",
       "      <td>27.82</td>\n",
       "      <td>Jul-1999</td>\n",
       "      <td>3 years</td>\n",
       "      <td>Occupational Theapy Assistant</td>\n",
       "      <td>734.0</td>\n",
       "      <td>730.0</td>\n",
       "      <td>...</td>\n",
       "      <td>Source Verified</td>\n",
       "      <td>468xx</td>\n",
       "      <td>4759.78</td>\n",
       "      <td>7.0</td>\n",
       "      <td>1.0</td>\n",
       "      <td>180.0</td>\n",
       "      <td>57.4</td>\n",
       "      <td>17153.0</td>\n",
       "      <td>10133.0</td>\n",
       "      <td>5.0</td>\n",
       "    </tr>\n",
       "  </tbody>\n",
       "</table>\n",
       "<p>5 rows × 39 columns</p>\n",
       "</div>"
      ],
      "text/plain": [
       "       funded_amnt addr_state  annual_inc application_type    dti  \\\n",
       "99994      15000.0         AR     84136.0       Individual  10.43   \n",
       "99995       8400.0         IL     91000.0       Individual   7.78   \n",
       "99996      10000.0         NM     53133.0       Individual  15.25   \n",
       "99998       8475.0         MO     52000.0       Individual  17.61   \n",
       "99999      25000.0         IN     60000.0       Individual  27.82   \n",
       "\n",
       "      earliest_cr_line emp_length                                 emp_title  \\\n",
       "99994         Nov-1984  10+ years  Senior Clinical Business Solutions Analy   \n",
       "99995         Aug-1990    2 years                         Software Engineer   \n",
       "99996         May-2001    3 years            Assistant Professor of English   \n",
       "99998         Nov-2000  10+ years                  Records Examiner Analyst   \n",
       "99999         Jul-1999    3 years             Occupational Theapy Assistant   \n",
       "\n",
       "       fico_range_high  fico_range_low  ... verification_status zip_code  \\\n",
       "99994            704.0           700.0  ...        Not Verified    719xx   \n",
       "99995            709.0           705.0  ...     Source Verified    606xx   \n",
       "99996            694.0           690.0  ...        Not Verified    874xx   \n",
       "99998            664.0           660.0  ...            Verified    630xx   \n",
       "99999            734.0           730.0  ...     Source Verified    468xx   \n",
       "\n",
       "       last_pymnt_amnt num_actv_rev_tl  mo_sin_rcnt_rev_tl_op  \\\n",
       "99994         10584.91             5.0                    3.0   \n",
       "99995           267.50             2.0                    5.0   \n",
       "99996          5594.78             5.0                    5.0   \n",
       "99998           336.92             3.0                    7.0   \n",
       "99999          4759.78             7.0                    1.0   \n",
       "\n",
       "       mo_sin_old_rev_tl_op  bc_util  bc_open_to_buy  avg_cur_bal  \\\n",
       "99994                 356.0     31.3         28091.0      14311.0   \n",
       "99995                 287.0     77.2          2505.0      25364.0   \n",
       "99996                 158.0     42.5         13974.0       4219.0   \n",
       "99998                 164.0     88.0           324.0       3125.0   \n",
       "99999                 180.0     57.4         17153.0      10133.0   \n",
       "\n",
       "       acc_open_past_24mths  \n",
       "99994                   5.0  \n",
       "99995                   2.0  \n",
       "99996                   3.0  \n",
       "99998                   8.0  \n",
       "99999                   5.0  \n",
       "\n",
       "[5 rows x 39 columns]"
      ]
     },
     "execution_count": 23,
     "metadata": {},
     "output_type": "execute_result"
    }
   ],
   "source": [
    "dataset.tail()"
   ]
  },
  {
   "cell_type": "code",
   "execution_count": 24,
   "metadata": {},
   "outputs": [
    {
     "data": {
      "text/plain": [
       "(86138, 39)"
      ]
     },
     "execution_count": 24,
     "metadata": {},
     "output_type": "execute_result"
    }
   ],
   "source": [
    "dataset.shape"
   ]
  },
  {
   "cell_type": "markdown",
   "metadata": {},
   "source": [
    "<a id='2.2.3'></a>\n",
    "### 3.2.3.  Features elimination based on the correlation"
   ]
  },
  {
   "cell_type": "markdown",
   "metadata": {},
   "source": [
    "### We remove all of the features with a correlation of under 3% with the  charge-off label."
   ]
  },
  {
   "cell_type": "code",
   "execution_count": 25,
   "metadata": {},
   "outputs": [
    {
     "name": "stdout",
     "output_type": "stream",
     "text": [
      "id                      0.002221\n",
      "pub_rec                 0.016023\n",
      "pub_rec_bankruptcies    0.015815\n",
      "revol_bal               0.021714\n",
      "total_acc               0.005804\n",
      "Name: loan_status, dtype: float64\n"
     ]
    }
   ],
   "source": [
    "loan_status_corr = dataset.select_dtypes(include=[float, int]).corr()['loan_status'].abs()\n",
    "low_corr_features = loan_status_corr[loan_status_corr < 0.03]\n",
    "print(low_corr_features)"
   ]
  },
  {
   "cell_type": "code",
   "execution_count": 26,
   "metadata": {},
   "outputs": [],
   "source": [
    "drop_list = low_corr_features.index\n",
    "dataset_reduced = dataset.drop(columns = drop_list)"
   ]
  },
  {
   "cell_type": "code",
   "execution_count": 27,
   "metadata": {},
   "outputs": [
    {
     "name": "stdout",
     "output_type": "stream",
     "text": [
      "Features removed due to low correlation (< 3%) with loan_status:\n",
      "id                      0.002221\n",
      "pub_rec                 0.016023\n",
      "pub_rec_bankruptcies    0.015815\n",
      "revol_bal               0.021714\n",
      "total_acc               0.005804\n",
      "Name: loan_status, dtype: float64\n"
     ]
    }
   ],
   "source": [
    "print('Features removed due to low correlation (< 3%) with loan_status:')\n",
    "print(low_corr_features)"
   ]
  },
  {
   "cell_type": "code",
   "execution_count": 28,
   "metadata": {},
   "outputs": [
    {
     "data": {
      "text/plain": [
       "(86138, 34)"
      ]
     },
     "execution_count": 28,
     "metadata": {},
     "output_type": "execute_result"
    }
   ],
   "source": [
    "dataset_reduced.shape"
   ]
  },
  {
   "cell_type": "markdown",
   "metadata": {},
   "source": [
    "<a id='3'></a>\n",
    "# 4. Feature Engineering and Exploratory Analysis"
   ]
  },
  {
   "cell_type": "code",
   "execution_count": 29,
   "metadata": {},
   "outputs": [
    {
     "data": {
      "text/html": [
       "<div>\n",
       "<style scoped>\n",
       "    .dataframe tbody tr th:only-of-type {\n",
       "        vertical-align: middle;\n",
       "    }\n",
       "\n",
       "    .dataframe tbody tr th {\n",
       "        vertical-align: top;\n",
       "    }\n",
       "\n",
       "    .dataframe thead th {\n",
       "        text-align: right;\n",
       "    }\n",
       "</style>\n",
       "<table border=\"1\" class=\"dataframe\">\n",
       "  <thead>\n",
       "    <tr style=\"text-align: right;\">\n",
       "      <th></th>\n",
       "      <th>funded_amnt</th>\n",
       "      <th>annual_inc</th>\n",
       "      <th>dti</th>\n",
       "      <th>fico_range_high</th>\n",
       "      <th>fico_range_low</th>\n",
       "      <th>installment</th>\n",
       "      <th>int_rate</th>\n",
       "      <th>loan_amnt</th>\n",
       "      <th>loan_status</th>\n",
       "      <th>mort_acc</th>\n",
       "      <th>open_acc</th>\n",
       "      <th>revol_util</th>\n",
       "      <th>last_pymnt_amnt</th>\n",
       "      <th>num_actv_rev_tl</th>\n",
       "      <th>mo_sin_rcnt_rev_tl_op</th>\n",
       "      <th>mo_sin_old_rev_tl_op</th>\n",
       "      <th>bc_util</th>\n",
       "      <th>bc_open_to_buy</th>\n",
       "      <th>avg_cur_bal</th>\n",
       "      <th>acc_open_past_24mths</th>\n",
       "    </tr>\n",
       "  </thead>\n",
       "  <tbody>\n",
       "    <tr>\n",
       "      <th>count</th>\n",
       "      <td>86138.000000</td>\n",
       "      <td>8.613800e+04</td>\n",
       "      <td>86138.000000</td>\n",
       "      <td>86138.000000</td>\n",
       "      <td>86138.000000</td>\n",
       "      <td>86138.000000</td>\n",
       "      <td>86138.000000</td>\n",
       "      <td>86138.000000</td>\n",
       "      <td>86138.000000</td>\n",
       "      <td>86138.000000</td>\n",
       "      <td>86138.000000</td>\n",
       "      <td>86094.000000</td>\n",
       "      <td>86138.000000</td>\n",
       "      <td>86138.000000</td>\n",
       "      <td>86138.000000</td>\n",
       "      <td>86138.000000</td>\n",
       "      <td>85089.000000</td>\n",
       "      <td>85142.000000</td>\n",
       "      <td>86138.000000</td>\n",
       "      <td>86138.000000</td>\n",
       "    </tr>\n",
       "    <tr>\n",
       "      <th>mean</th>\n",
       "      <td>14106.526446</td>\n",
       "      <td>7.384311e+04</td>\n",
       "      <td>18.532747</td>\n",
       "      <td>696.463024</td>\n",
       "      <td>692.462966</td>\n",
       "      <td>430.737187</td>\n",
       "      <td>13.002360</td>\n",
       "      <td>14106.526446</td>\n",
       "      <td>0.187559</td>\n",
       "      <td>1.748880</td>\n",
       "      <td>11.746453</td>\n",
       "      <td>54.582777</td>\n",
       "      <td>4757.453184</td>\n",
       "      <td>5.762358</td>\n",
       "      <td>12.796896</td>\n",
       "      <td>183.524333</td>\n",
       "      <td>63.808959</td>\n",
       "      <td>8942.506507</td>\n",
       "      <td>13066.638371</td>\n",
       "      <td>4.594732</td>\n",
       "    </tr>\n",
       "    <tr>\n",
       "      <th>std</th>\n",
       "      <td>8391.139221</td>\n",
       "      <td>5.929352e+04</td>\n",
       "      <td>8.538247</td>\n",
       "      <td>29.731848</td>\n",
       "      <td>29.731549</td>\n",
       "      <td>251.653139</td>\n",
       "      <td>4.397419</td>\n",
       "      <td>8391.139221</td>\n",
       "      <td>0.390362</td>\n",
       "      <td>2.091488</td>\n",
       "      <td>5.433122</td>\n",
       "      <td>23.515901</td>\n",
       "      <td>6466.767327</td>\n",
       "      <td>3.224598</td>\n",
       "      <td>16.224586</td>\n",
       "      <td>93.266430</td>\n",
       "      <td>27.051347</td>\n",
       "      <td>14100.186250</td>\n",
       "      <td>16232.739293</td>\n",
       "      <td>3.070996</td>\n",
       "    </tr>\n",
       "    <tr>\n",
       "      <th>min</th>\n",
       "      <td>1000.000000</td>\n",
       "      <td>4.000000e+03</td>\n",
       "      <td>0.000000</td>\n",
       "      <td>664.000000</td>\n",
       "      <td>660.000000</td>\n",
       "      <td>30.420000</td>\n",
       "      <td>6.000000</td>\n",
       "      <td>1000.000000</td>\n",
       "      <td>0.000000</td>\n",
       "      <td>0.000000</td>\n",
       "      <td>1.000000</td>\n",
       "      <td>0.000000</td>\n",
       "      <td>0.000000</td>\n",
       "      <td>0.000000</td>\n",
       "      <td>0.000000</td>\n",
       "      <td>3.000000</td>\n",
       "      <td>0.000000</td>\n",
       "      <td>0.000000</td>\n",
       "      <td>0.000000</td>\n",
       "      <td>0.000000</td>\n",
       "    </tr>\n",
       "    <tr>\n",
       "      <th>25%</th>\n",
       "      <td>7800.000000</td>\n",
       "      <td>4.500000e+04</td>\n",
       "      <td>12.070000</td>\n",
       "      <td>674.000000</td>\n",
       "      <td>670.000000</td>\n",
       "      <td>248.480000</td>\n",
       "      <td>9.490000</td>\n",
       "      <td>7800.000000</td>\n",
       "      <td>0.000000</td>\n",
       "      <td>0.000000</td>\n",
       "      <td>8.000000</td>\n",
       "      <td>37.200000</td>\n",
       "      <td>358.522500</td>\n",
       "      <td>3.000000</td>\n",
       "      <td>3.000000</td>\n",
       "      <td>118.000000</td>\n",
       "      <td>44.100000</td>\n",
       "      <td>1087.000000</td>\n",
       "      <td>3010.000000</td>\n",
       "      <td>2.000000</td>\n",
       "    </tr>\n",
       "    <tr>\n",
       "      <th>50%</th>\n",
       "      <td>12000.000000</td>\n",
       "      <td>6.247372e+04</td>\n",
       "      <td>17.950000</td>\n",
       "      <td>689.000000</td>\n",
       "      <td>685.000000</td>\n",
       "      <td>370.480000</td>\n",
       "      <td>12.990000</td>\n",
       "      <td>12000.000000</td>\n",
       "      <td>0.000000</td>\n",
       "      <td>1.000000</td>\n",
       "      <td>11.000000</td>\n",
       "      <td>54.900000</td>\n",
       "      <td>1241.230000</td>\n",
       "      <td>5.000000</td>\n",
       "      <td>8.000000</td>\n",
       "      <td>167.000000</td>\n",
       "      <td>67.700000</td>\n",
       "      <td>3823.000000</td>\n",
       "      <td>6994.500000</td>\n",
       "      <td>4.000000</td>\n",
       "    </tr>\n",
       "    <tr>\n",
       "      <th>75%</th>\n",
       "      <td>20000.000000</td>\n",
       "      <td>9.000000e+04</td>\n",
       "      <td>24.500000</td>\n",
       "      <td>709.000000</td>\n",
       "      <td>705.000000</td>\n",
       "      <td>568.005000</td>\n",
       "      <td>15.610000</td>\n",
       "      <td>20000.000000</td>\n",
       "      <td>0.000000</td>\n",
       "      <td>3.000000</td>\n",
       "      <td>14.000000</td>\n",
       "      <td>72.500000</td>\n",
       "      <td>7303.205000</td>\n",
       "      <td>7.000000</td>\n",
       "      <td>15.000000</td>\n",
       "      <td>232.000000</td>\n",
       "      <td>87.500000</td>\n",
       "      <td>10588.000000</td>\n",
       "      <td>17905.000000</td>\n",
       "      <td>6.000000</td>\n",
       "    </tr>\n",
       "    <tr>\n",
       "      <th>max</th>\n",
       "      <td>35000.000000</td>\n",
       "      <td>7.500000e+06</td>\n",
       "      <td>39.990000</td>\n",
       "      <td>850.000000</td>\n",
       "      <td>845.000000</td>\n",
       "      <td>1408.130000</td>\n",
       "      <td>26.060000</td>\n",
       "      <td>35000.000000</td>\n",
       "      <td>1.000000</td>\n",
       "      <td>34.000000</td>\n",
       "      <td>84.000000</td>\n",
       "      <td>180.300000</td>\n",
       "      <td>36234.440000</td>\n",
       "      <td>38.000000</td>\n",
       "      <td>372.000000</td>\n",
       "      <td>718.000000</td>\n",
       "      <td>255.200000</td>\n",
       "      <td>249625.000000</td>\n",
       "      <td>447433.000000</td>\n",
       "      <td>53.000000</td>\n",
       "    </tr>\n",
       "  </tbody>\n",
       "</table>\n",
       "</div>"
      ],
      "text/plain": [
       "        funded_amnt    annual_inc           dti  fico_range_high  \\\n",
       "count  86138.000000  8.613800e+04  86138.000000     86138.000000   \n",
       "mean   14106.526446  7.384311e+04     18.532747       696.463024   \n",
       "std     8391.139221  5.929352e+04      8.538247        29.731848   \n",
       "min     1000.000000  4.000000e+03      0.000000       664.000000   \n",
       "25%     7800.000000  4.500000e+04     12.070000       674.000000   \n",
       "50%    12000.000000  6.247372e+04     17.950000       689.000000   \n",
       "75%    20000.000000  9.000000e+04     24.500000       709.000000   \n",
       "max    35000.000000  7.500000e+06     39.990000       850.000000   \n",
       "\n",
       "       fico_range_low   installment      int_rate     loan_amnt   loan_status  \\\n",
       "count    86138.000000  86138.000000  86138.000000  86138.000000  86138.000000   \n",
       "mean       692.462966    430.737187     13.002360  14106.526446      0.187559   \n",
       "std         29.731549    251.653139      4.397419   8391.139221      0.390362   \n",
       "min        660.000000     30.420000      6.000000   1000.000000      0.000000   \n",
       "25%        670.000000    248.480000      9.490000   7800.000000      0.000000   \n",
       "50%        685.000000    370.480000     12.990000  12000.000000      0.000000   \n",
       "75%        705.000000    568.005000     15.610000  20000.000000      0.000000   \n",
       "max        845.000000   1408.130000     26.060000  35000.000000      1.000000   \n",
       "\n",
       "           mort_acc      open_acc    revol_util  last_pymnt_amnt  \\\n",
       "count  86138.000000  86138.000000  86094.000000     86138.000000   \n",
       "mean       1.748880     11.746453     54.582777      4757.453184   \n",
       "std        2.091488      5.433122     23.515901      6466.767327   \n",
       "min        0.000000      1.000000      0.000000         0.000000   \n",
       "25%        0.000000      8.000000     37.200000       358.522500   \n",
       "50%        1.000000     11.000000     54.900000      1241.230000   \n",
       "75%        3.000000     14.000000     72.500000      7303.205000   \n",
       "max       34.000000     84.000000    180.300000     36234.440000   \n",
       "\n",
       "       num_actv_rev_tl  mo_sin_rcnt_rev_tl_op  mo_sin_old_rev_tl_op  \\\n",
       "count     86138.000000           86138.000000          86138.000000   \n",
       "mean          5.762358              12.796896            183.524333   \n",
       "std           3.224598              16.224586             93.266430   \n",
       "min           0.000000               0.000000              3.000000   \n",
       "25%           3.000000               3.000000            118.000000   \n",
       "50%           5.000000               8.000000            167.000000   \n",
       "75%           7.000000              15.000000            232.000000   \n",
       "max          38.000000             372.000000            718.000000   \n",
       "\n",
       "            bc_util  bc_open_to_buy    avg_cur_bal  acc_open_past_24mths  \n",
       "count  85089.000000    85142.000000   86138.000000          86138.000000  \n",
       "mean      63.808959     8942.506507   13066.638371              4.594732  \n",
       "std       27.051347    14100.186250   16232.739293              3.070996  \n",
       "min        0.000000        0.000000       0.000000              0.000000  \n",
       "25%       44.100000     1087.000000    3010.000000              2.000000  \n",
       "50%       67.700000     3823.000000    6994.500000              4.000000  \n",
       "75%       87.500000    10588.000000   17905.000000              6.000000  \n",
       "max      255.200000   249625.000000  447433.000000             53.000000  "
      ]
     },
     "execution_count": 29,
     "metadata": {},
     "output_type": "execute_result"
    }
   ],
   "source": [
    "dataset_reduced.describe()"
   ]
  },
  {
   "cell_type": "code",
   "execution_count": 30,
   "metadata": {},
   "outputs": [
    {
     "data": {
      "text/plain": [
       "funded_amnt              float64\n",
       "addr_state                object\n",
       "annual_inc               float64\n",
       "application_type          object\n",
       "dti                      float64\n",
       "earliest_cr_line          object\n",
       "emp_length                object\n",
       "emp_title                 object\n",
       "fico_range_high          float64\n",
       "fico_range_low           float64\n",
       "grade                     object\n",
       "home_ownership            object\n",
       "initial_list_status       object\n",
       "installment              float64\n",
       "int_rate                 float64\n",
       "loan_amnt                float64\n",
       "loan_status                int64\n",
       "mort_acc                 float64\n",
       "open_acc                 float64\n",
       "purpose                   object\n",
       "revol_util               float64\n",
       "sub_grade                 object\n",
       "term                      object\n",
       "title                     object\n",
       "verification_status       object\n",
       "zip_code                  object\n",
       "last_pymnt_amnt          float64\n",
       "num_actv_rev_tl          float64\n",
       "mo_sin_rcnt_rev_tl_op    float64\n",
       "mo_sin_old_rev_tl_op     float64\n",
       "bc_util                  float64\n",
       "bc_open_to_buy           float64\n",
       "avg_cur_bal              float64\n",
       "acc_open_past_24mths     float64\n",
       "dtype: object"
      ]
     },
     "execution_count": 30,
     "metadata": {},
     "output_type": "execute_result"
    }
   ],
   "source": [
    "dataset_reduced.dtypes"
   ]
  },
  {
   "cell_type": "code",
   "execution_count": 31,
   "metadata": {},
   "outputs": [
    {
     "data": {
      "text/plain": [
       "funded_amnt                 0\n",
       "addr_state                  0\n",
       "annual_inc                  0\n",
       "application_type            0\n",
       "dti                         0\n",
       "earliest_cr_line            0\n",
       "emp_length               4717\n",
       "emp_title                4722\n",
       "fico_range_high             0\n",
       "fico_range_low              0\n",
       "grade                       0\n",
       "home_ownership              0\n",
       "initial_list_status         0\n",
       "installment                 0\n",
       "int_rate                    0\n",
       "loan_amnt                   0\n",
       "loan_status                 0\n",
       "mort_acc                    0\n",
       "open_acc                    0\n",
       "purpose                     0\n",
       "revol_util                 44\n",
       "sub_grade                   0\n",
       "term                        0\n",
       "title                       0\n",
       "verification_status         0\n",
       "zip_code                    0\n",
       "last_pymnt_amnt             0\n",
       "num_actv_rev_tl             0\n",
       "mo_sin_rcnt_rev_tl_op       0\n",
       "mo_sin_old_rev_tl_op        0\n",
       "bc_util                  1049\n",
       "bc_open_to_buy            996\n",
       "avg_cur_bal                 0\n",
       "acc_open_past_24mths        0\n",
       "dtype: int64"
      ]
     },
     "execution_count": 31,
     "metadata": {},
     "output_type": "execute_result"
    }
   ],
   "source": [
    "dataset_reduced.isnull().sum()"
   ]
  },
  {
   "cell_type": "markdown",
   "metadata": {},
   "source": [
    "<a id='3.1'></a>\n",
    "## 4.1 Feature Analysis and Exploration"
   ]
  },
  {
   "cell_type": "markdown",
   "metadata": {},
   "source": [
    "<a id='3.1.1'></a>\n",
    "### 4.1.1. Analysing the categorical features "
   ]
  },
  {
   "cell_type": "code",
   "execution_count": 32,
   "metadata": {},
   "outputs": [
    {
     "name": "stdout",
     "output_type": "stream",
     "text": [
      "Categorical features: ['addr_state', 'application_type', 'earliest_cr_line', 'emp_length', 'emp_title', 'grade', 'home_ownership', 'initial_list_status', 'purpose', 'sub_grade', 'term', 'title', 'verification_status', 'zip_code']\n"
     ]
    }
   ],
   "source": [
    "categorical_features = dataset_reduced.select_dtypes(include=['object']).columns.tolist()\n",
    "print('Categorical features:', categorical_features)"
   ]
  },
  {
   "cell_type": "code",
   "execution_count": 33,
   "metadata": {},
   "outputs": [
    {
     "data": {
      "text/html": [
       "<div>\n",
       "<style scoped>\n",
       "    .dataframe tbody tr th:only-of-type {\n",
       "        vertical-align: middle;\n",
       "    }\n",
       "\n",
       "    .dataframe tbody tr th {\n",
       "        vertical-align: top;\n",
       "    }\n",
       "\n",
       "    .dataframe thead th {\n",
       "        text-align: right;\n",
       "    }\n",
       "</style>\n",
       "<table border=\"1\" class=\"dataframe\">\n",
       "  <thead>\n",
       "    <tr style=\"text-align: right;\">\n",
       "      <th></th>\n",
       "      <th>addr_state</th>\n",
       "      <th>application_type</th>\n",
       "      <th>earliest_cr_line</th>\n",
       "      <th>emp_length</th>\n",
       "      <th>emp_title</th>\n",
       "      <th>grade</th>\n",
       "      <th>home_ownership</th>\n",
       "      <th>initial_list_status</th>\n",
       "      <th>purpose</th>\n",
       "      <th>sub_grade</th>\n",
       "      <th>term</th>\n",
       "      <th>title</th>\n",
       "      <th>verification_status</th>\n",
       "      <th>zip_code</th>\n",
       "    </tr>\n",
       "  </thead>\n",
       "  <tbody>\n",
       "    <tr>\n",
       "      <th>0</th>\n",
       "      <td>VA</td>\n",
       "      <td>Individual</td>\n",
       "      <td>Aug-1994</td>\n",
       "      <td>10+ years</td>\n",
       "      <td>MANAGEMENT</td>\n",
       "      <td>C</td>\n",
       "      <td>RENT</td>\n",
       "      <td>w</td>\n",
       "      <td>debt_consolidation</td>\n",
       "      <td>C1</td>\n",
       "      <td>60 months</td>\n",
       "      <td>Debt consolidation</td>\n",
       "      <td>Source Verified</td>\n",
       "      <td>235xx</td>\n",
       "    </tr>\n",
       "    <tr>\n",
       "      <th>1</th>\n",
       "      <td>CA</td>\n",
       "      <td>Individual</td>\n",
       "      <td>Sep-1989</td>\n",
       "      <td>8 years</td>\n",
       "      <td>Truck Driver Delivery Personel</td>\n",
       "      <td>A</td>\n",
       "      <td>MORTGAGE</td>\n",
       "      <td>w</td>\n",
       "      <td>credit_card</td>\n",
       "      <td>A3</td>\n",
       "      <td>36 months</td>\n",
       "      <td>Credit card refinancing</td>\n",
       "      <td>Not Verified</td>\n",
       "      <td>937xx</td>\n",
       "    </tr>\n",
       "    <tr>\n",
       "      <th>2</th>\n",
       "      <td>MO</td>\n",
       "      <td>Individual</td>\n",
       "      <td>Aug-2003</td>\n",
       "      <td>6 years</td>\n",
       "      <td>Programming Analysis Supervisor</td>\n",
       "      <td>D</td>\n",
       "      <td>RENT</td>\n",
       "      <td>w</td>\n",
       "      <td>credit_card</td>\n",
       "      <td>D1</td>\n",
       "      <td>60 months</td>\n",
       "      <td>Credit card refinancing</td>\n",
       "      <td>Source Verified</td>\n",
       "      <td>658xx</td>\n",
       "    </tr>\n",
       "    <tr>\n",
       "      <th>4</th>\n",
       "      <td>AZ</td>\n",
       "      <td>Individual</td>\n",
       "      <td>Aug-2002</td>\n",
       "      <td>&lt; 1 year</td>\n",
       "      <td>Technical Specialist</td>\n",
       "      <td>C</td>\n",
       "      <td>RENT</td>\n",
       "      <td>f</td>\n",
       "      <td>debt_consolidation</td>\n",
       "      <td>C3</td>\n",
       "      <td>36 months</td>\n",
       "      <td>Debt consolidation</td>\n",
       "      <td>Source Verified</td>\n",
       "      <td>850xx</td>\n",
       "    </tr>\n",
       "    <tr>\n",
       "      <th>5</th>\n",
       "      <td>NJ</td>\n",
       "      <td>Individual</td>\n",
       "      <td>Nov-1992</td>\n",
       "      <td>10+ years</td>\n",
       "      <td>Admin Specialist</td>\n",
       "      <td>C</td>\n",
       "      <td>RENT</td>\n",
       "      <td>f</td>\n",
       "      <td>debt_consolidation</td>\n",
       "      <td>C3</td>\n",
       "      <td>36 months</td>\n",
       "      <td>Debt consolidation</td>\n",
       "      <td>Source Verified</td>\n",
       "      <td>077xx</td>\n",
       "    </tr>\n",
       "  </tbody>\n",
       "</table>\n",
       "</div>"
      ],
      "text/plain": [
       "  addr_state application_type earliest_cr_line emp_length  \\\n",
       "0         VA       Individual         Aug-1994  10+ years   \n",
       "1         CA       Individual         Sep-1989    8 years   \n",
       "2         MO       Individual         Aug-2003    6 years   \n",
       "4         AZ       Individual         Aug-2002   < 1 year   \n",
       "5         NJ       Individual         Nov-1992  10+ years   \n",
       "\n",
       "                         emp_title grade home_ownership initial_list_status  \\\n",
       "0                       MANAGEMENT     C           RENT                   w   \n",
       "1   Truck Driver Delivery Personel     A       MORTGAGE                   w   \n",
       "2  Programming Analysis Supervisor     D           RENT                   w   \n",
       "4             Technical Specialist     C           RENT                   f   \n",
       "5                 Admin Specialist     C           RENT                   f   \n",
       "\n",
       "              purpose sub_grade        term                    title  \\\n",
       "0  debt_consolidation        C1   60 months       Debt consolidation   \n",
       "1         credit_card        A3   36 months  Credit card refinancing   \n",
       "2         credit_card        D1   60 months  Credit card refinancing   \n",
       "4  debt_consolidation        C3   36 months       Debt consolidation   \n",
       "5  debt_consolidation        C3   36 months       Debt consolidation   \n",
       "\n",
       "  verification_status zip_code  \n",
       "0     Source Verified    235xx  \n",
       "1        Not Verified    937xx  \n",
       "2     Source Verified    658xx  \n",
       "4     Source Verified    850xx  \n",
       "5     Source Verified    077xx  "
      ]
     },
     "execution_count": 33,
     "metadata": {},
     "output_type": "execute_result"
    }
   ],
   "source": [
    "dataset_reduced[categorical_features].head()"
   ]
  },
  {
   "cell_type": "code",
   "execution_count": 34,
   "metadata": {},
   "outputs": [
    {
     "data": {
      "text/html": [
       "<div>\n",
       "<style scoped>\n",
       "    .dataframe tbody tr th:only-of-type {\n",
       "        vertical-align: middle;\n",
       "    }\n",
       "\n",
       "    .dataframe tbody tr th {\n",
       "        vertical-align: top;\n",
       "    }\n",
       "\n",
       "    .dataframe thead th {\n",
       "        text-align: right;\n",
       "    }\n",
       "</style>\n",
       "<table border=\"1\" class=\"dataframe\">\n",
       "  <thead>\n",
       "    <tr style=\"text-align: right;\">\n",
       "      <th></th>\n",
       "      <th>addr_state</th>\n",
       "      <th>application_type</th>\n",
       "      <th>earliest_cr_line</th>\n",
       "      <th>emp_length</th>\n",
       "      <th>emp_title</th>\n",
       "      <th>grade</th>\n",
       "      <th>home_ownership</th>\n",
       "      <th>initial_list_status</th>\n",
       "      <th>purpose</th>\n",
       "      <th>sub_grade</th>\n",
       "      <th>term</th>\n",
       "      <th>title</th>\n",
       "      <th>verification_status</th>\n",
       "      <th>zip_code</th>\n",
       "    </tr>\n",
       "  </thead>\n",
       "  <tbody>\n",
       "    <tr>\n",
       "      <th>99994</th>\n",
       "      <td>AR</td>\n",
       "      <td>Individual</td>\n",
       "      <td>Nov-1984</td>\n",
       "      <td>10+ years</td>\n",
       "      <td>Senior Clinical Business Solutions Analy</td>\n",
       "      <td>B</td>\n",
       "      <td>MORTGAGE</td>\n",
       "      <td>f</td>\n",
       "      <td>debt_consolidation</td>\n",
       "      <td>B2</td>\n",
       "      <td>36 months</td>\n",
       "      <td>Debt consolidation</td>\n",
       "      <td>Not Verified</td>\n",
       "      <td>719xx</td>\n",
       "    </tr>\n",
       "    <tr>\n",
       "      <th>99995</th>\n",
       "      <td>IL</td>\n",
       "      <td>Individual</td>\n",
       "      <td>Aug-1990</td>\n",
       "      <td>2 years</td>\n",
       "      <td>Software Engineer</td>\n",
       "      <td>B</td>\n",
       "      <td>MORTGAGE</td>\n",
       "      <td>w</td>\n",
       "      <td>debt_consolidation</td>\n",
       "      <td>B1</td>\n",
       "      <td>36 months</td>\n",
       "      <td>Debt consolidation</td>\n",
       "      <td>Source Verified</td>\n",
       "      <td>606xx</td>\n",
       "    </tr>\n",
       "    <tr>\n",
       "      <th>99996</th>\n",
       "      <td>NM</td>\n",
       "      <td>Individual</td>\n",
       "      <td>May-2001</td>\n",
       "      <td>3 years</td>\n",
       "      <td>Assistant Professor of English</td>\n",
       "      <td>C</td>\n",
       "      <td>RENT</td>\n",
       "      <td>f</td>\n",
       "      <td>debt_consolidation</td>\n",
       "      <td>C1</td>\n",
       "      <td>36 months</td>\n",
       "      <td>Debt consolidation</td>\n",
       "      <td>Not Verified</td>\n",
       "      <td>874xx</td>\n",
       "    </tr>\n",
       "    <tr>\n",
       "      <th>99998</th>\n",
       "      <td>MO</td>\n",
       "      <td>Individual</td>\n",
       "      <td>Nov-2000</td>\n",
       "      <td>10+ years</td>\n",
       "      <td>Records Examiner Analyst</td>\n",
       "      <td>F</td>\n",
       "      <td>RENT</td>\n",
       "      <td>f</td>\n",
       "      <td>debt_consolidation</td>\n",
       "      <td>F4</td>\n",
       "      <td>36 months</td>\n",
       "      <td>Debt consolidation</td>\n",
       "      <td>Verified</td>\n",
       "      <td>630xx</td>\n",
       "    </tr>\n",
       "    <tr>\n",
       "      <th>99999</th>\n",
       "      <td>IN</td>\n",
       "      <td>Individual</td>\n",
       "      <td>Jul-1999</td>\n",
       "      <td>3 years</td>\n",
       "      <td>Occupational Theapy Assistant</td>\n",
       "      <td>B</td>\n",
       "      <td>OWN</td>\n",
       "      <td>w</td>\n",
       "      <td>debt_consolidation</td>\n",
       "      <td>B2</td>\n",
       "      <td>36 months</td>\n",
       "      <td>Debt consolidation</td>\n",
       "      <td>Source Verified</td>\n",
       "      <td>468xx</td>\n",
       "    </tr>\n",
       "  </tbody>\n",
       "</table>\n",
       "</div>"
      ],
      "text/plain": [
       "      addr_state application_type earliest_cr_line emp_length  \\\n",
       "99994         AR       Individual         Nov-1984  10+ years   \n",
       "99995         IL       Individual         Aug-1990    2 years   \n",
       "99996         NM       Individual         May-2001    3 years   \n",
       "99998         MO       Individual         Nov-2000  10+ years   \n",
       "99999         IN       Individual         Jul-1999    3 years   \n",
       "\n",
       "                                      emp_title grade home_ownership  \\\n",
       "99994  Senior Clinical Business Solutions Analy     B       MORTGAGE   \n",
       "99995                         Software Engineer     B       MORTGAGE   \n",
       "99996            Assistant Professor of English     C           RENT   \n",
       "99998                  Records Examiner Analyst     F           RENT   \n",
       "99999             Occupational Theapy Assistant     B            OWN   \n",
       "\n",
       "      initial_list_status             purpose sub_grade        term  \\\n",
       "99994                   f  debt_consolidation        B2   36 months   \n",
       "99995                   w  debt_consolidation        B1   36 months   \n",
       "99996                   f  debt_consolidation        C1   36 months   \n",
       "99998                   f  debt_consolidation        F4   36 months   \n",
       "99999                   w  debt_consolidation        B2   36 months   \n",
       "\n",
       "                    title verification_status zip_code  \n",
       "99994  Debt consolidation        Not Verified    719xx  \n",
       "99995  Debt consolidation     Source Verified    606xx  \n",
       "99996  Debt consolidation        Not Verified    874xx  \n",
       "99998  Debt consolidation            Verified    630xx  \n",
       "99999  Debt consolidation     Source Verified    468xx  "
      ]
     },
     "execution_count": 34,
     "metadata": {},
     "output_type": "execute_result"
    }
   ],
   "source": [
    "dataset_reduced[categorical_features].tail()"
   ]
  },
  {
   "cell_type": "code",
   "execution_count": 35,
   "metadata": {},
   "outputs": [
    {
     "name": "stdout",
     "output_type": "stream",
     "text": [
      "addr_state: ['VA' 'CA' 'MO' 'AZ' 'NJ'], 46\n",
      "application_type: ['Individual'], 1\n",
      "earliest_cr_line: ['Aug-1994' 'Sep-1989' 'Aug-2003' 'Aug-2002' 'Nov-1992'], 598\n",
      "emp_length: ['10+ years' '8 years' '6 years' '< 1 year' '2 years'], 11\n",
      "emp_title: ['MANAGEMENT' 'Truck Driver Delivery Personel'\n",
      " 'Programming Analysis Supervisor' 'Technical Specialist'\n",
      " 'Admin Specialist'], 32987\n",
      "grade: ['C' 'A' 'D' 'B' 'E'], 7\n",
      "home_ownership: ['RENT' 'MORTGAGE' 'OWN' 'ANY'], 4\n",
      "initial_list_status: ['w' 'f'], 2\n",
      "purpose: ['debt_consolidation' 'credit_card' 'home_improvement' 'house' 'medical'], 13\n",
      "sub_grade: ['C1' 'A3' 'D1' 'C3' 'B5'], 35\n",
      "term: [' 60 months' ' 36 months'], 2\n",
      "title: ['Debt consolidation' 'Credit card refinancing' 'Home improvement'\n",
      " 'Home buying' 'Medical expenses'], 20\n",
      "verification_status: ['Source Verified' 'Not Verified' 'Verified'], 3\n",
      "zip_code: ['235xx' '937xx' '658xx' '850xx' '077xx'], 846\n"
     ]
    }
   ],
   "source": [
    "for feature in categorical_features:\n",
    "    print(f'{feature}: {dataset[feature].unique()[:5]}, {dataset[feature].nunique()}') \n",
    "    # display the 5 first unique values and the number of unique values"
   ]
  },
  {
   "cell_type": "markdown",
   "metadata": {},
   "source": [
    "### Removing\n",
    "We can remove **application_type** since it only contains a single value.  \n",
    "**emp_title** has high variability with many unique values, making it difficult to generalize, so it can be removed.  \n",
    "**initial_list_status** has only two values and does not add meaningful information, so we can exclude it as well.  \n",
    "**title** is redundant as it is similar to **purpose**, which we are keeping.  \n",
    "Lastly, **zip_code** is less informative compared to **addr_state**, so it can be removed.\n",
    "\n",
    "### Keeping\n",
    "We can keep **addr_state** since it provides information on geography at state level and has manageable variability.\n",
    "**earliest_cr_line** even if contains 598 unique values, might provide information on historical credit information.\n",
    "**emp_length** gives information on employement stability.\n",
    "**grade** and **sub_grade** represents the credit quality, valuable for default risk.\n",
    "**home_ownership** can be relevant for financial behavior, in the sense that home owners have more incentive to reimburse their mortgage for example (otherwise can loose their home).\n",
    "**purpose** captures the reasons for borrowing, and has a manageable number of unique values.\n",
    "**term** only two unique values, relevant for the analysis.\n",
    "**verification_status** has small number of unique values and gives information on the verification level of income, directly related to the loan pressure.\n",
    "\n",
    "The categorical features kept will be converted into numerical form."
   ]
  },
  {
   "cell_type": "code",
   "execution_count": 36,
   "metadata": {},
   "outputs": [],
   "source": [
    "dataset_reduced = dataset_reduced.drop(columns=['application_type','emp_title', 'initial_list_status', 'title', 'zip_code'])"
   ]
  },
  {
   "cell_type": "markdown",
   "metadata": {},
   "source": [
    "### Convert Term to a numerical feature"
   ]
  },
  {
   "cell_type": "code",
   "execution_count": 37,
   "metadata": {},
   "outputs": [
    {
     "data": {
      "text/plain": [
       "0         60 months\n",
       "1         36 months\n",
       "2         60 months\n",
       "4         36 months\n",
       "5         36 months\n",
       "            ...    \n",
       "99994     36 months\n",
       "99995     36 months\n",
       "99996     36 months\n",
       "99998     36 months\n",
       "99999     36 months\n",
       "Name: term, Length: 86138, dtype: object"
      ]
     },
     "execution_count": 37,
     "metadata": {},
     "output_type": "execute_result"
    }
   ],
   "source": [
    "dataset_reduced['term']"
   ]
  },
  {
   "cell_type": "code",
   "execution_count": 38,
   "metadata": {},
   "outputs": [
    {
     "name": "stdout",
     "output_type": "stream",
     "text": [
      "[' 60 months' ' 36 months']\n"
     ]
    }
   ],
   "source": [
    "unique_terms = dataset_reduced['term'].unique()\n",
    "print(unique_terms)"
   ]
  },
  {
   "cell_type": "code",
   "execution_count": 39,
   "metadata": {},
   "outputs": [],
   "source": [
    "# Convert 'term' to a numerical feature\n",
    "dataset_reduced['term'] = dataset_reduced['term'].replace({' 36 months': 0, ' 60 months': 1})"
   ]
  },
  {
   "cell_type": "code",
   "execution_count": 40,
   "metadata": {},
   "outputs": [
    {
     "data": {
      "text/plain": [
       "0        1\n",
       "1        0\n",
       "2        1\n",
       "4        0\n",
       "5        0\n",
       "        ..\n",
       "99994    0\n",
       "99995    0\n",
       "99996    0\n",
       "99998    0\n",
       "99999    0\n",
       "Name: term, Length: 86138, dtype: int64"
      ]
     },
     "execution_count": 40,
     "metadata": {},
     "output_type": "execute_result"
    }
   ],
   "source": [
    "dataset_reduced['term']"
   ]
  },
  {
   "cell_type": "markdown",
   "metadata": {},
   "source": [
    "### Treatment of emp_length"
   ]
  },
  {
   "cell_type": "markdown",
   "metadata": {},
   "source": [
    "We keep emp_length because the length of employment can signal stability/unstability, hence probability of default risk."
   ]
  },
  {
   "cell_type": "code",
   "execution_count": 41,
   "metadata": {},
   "outputs": [
    {
     "data": {
      "text/plain": [
       "0        10+ years\n",
       "1          8 years\n",
       "2          6 years\n",
       "4         < 1 year\n",
       "5        10+ years\n",
       "           ...    \n",
       "99994    10+ years\n",
       "99995      2 years\n",
       "99996      3 years\n",
       "99998    10+ years\n",
       "99999      3 years\n",
       "Name: emp_length, Length: 86138, dtype: object"
      ]
     },
     "execution_count": 41,
     "metadata": {},
     "output_type": "execute_result"
    }
   ],
   "source": [
    "dataset_reduced['emp_length']"
   ]
  },
  {
   "cell_type": "code",
   "execution_count": 42,
   "metadata": {},
   "outputs": [
    {
     "name": "stdout",
     "output_type": "stream",
     "text": [
      "['10+ years' '8 years' '6 years' '< 1 year' '2 years' '9 years' '7 years'\n",
      " '3 years' '1 year' nan '4 years' '5 years']\n"
     ]
    }
   ],
   "source": [
    "unique_terms2 = dataset_reduced['emp_length'].unique()\n",
    "print(unique_terms2)"
   ]
  },
  {
   "cell_type": "code",
   "execution_count": 43,
   "metadata": {},
   "outputs": [],
   "source": [
    "dataset_reduced['emp_length'] = dataset_reduced['emp_length'].replace({'< 1 year': 0, '1 year': 1, '2 years': 2,\n",
    "    '3 years': 3,\n",
    "    '4 years': 4,\n",
    "    '5 years': 5,\n",
    "    '6 years': 6,\n",
    "    '7 years': 7,\n",
    "    '8 years': 8,\n",
    "    '9 years': 9,\n",
    "    '10+ years': 10})"
   ]
  },
  {
   "cell_type": "code",
   "execution_count": 44,
   "metadata": {},
   "outputs": [
    {
     "data": {
      "text/plain": [
       "0        10.0\n",
       "1         8.0\n",
       "2         6.0\n",
       "4         0.0\n",
       "5        10.0\n",
       "         ... \n",
       "99994    10.0\n",
       "99995     2.0\n",
       "99996     3.0\n",
       "99998    10.0\n",
       "99999     3.0\n",
       "Name: emp_length, Length: 86138, dtype: float64"
      ]
     },
     "execution_count": 44,
     "metadata": {},
     "output_type": "execute_result"
    }
   ],
   "source": [
    "dataset_reduced['emp_length']"
   ]
  },
  {
   "cell_type": "code",
   "execution_count": 45,
   "metadata": {},
   "outputs": [
    {
     "data": {
      "text/plain": [
       "0        C1\n",
       "1        A3\n",
       "2        D1\n",
       "4        C3\n",
       "5        C3\n",
       "         ..\n",
       "99994    B2\n",
       "99995    B1\n",
       "99996    C1\n",
       "99998    F4\n",
       "99999    B2\n",
       "Name: sub_grade, Length: 86138, dtype: object"
      ]
     },
     "execution_count": 45,
     "metadata": {},
     "output_type": "execute_result"
    }
   ],
   "source": [
    "dataset_reduced['sub_grade']"
   ]
  },
  {
   "cell_type": "code",
   "execution_count": 46,
   "metadata": {},
   "outputs": [
    {
     "name": "stdout",
     "output_type": "stream",
     "text": [
      "['C1' 'A3' 'D1' 'C3' 'B5' 'B4' 'C4' 'D5' 'B3' 'C5' 'D2' 'C2' 'B2' 'A4'\n",
      " 'D3' 'B1' 'A5' 'E5' 'F1' 'E4' 'D4' 'E2' 'E1' 'G2' 'G1' 'F3' 'F2' 'A1'\n",
      " 'A2' 'G3' 'E3' 'F4' 'G4' 'F5' 'G5']\n"
     ]
    }
   ],
   "source": [
    "unique_terms3 = dataset_reduced['sub_grade'].unique()\n",
    "print(unique_terms3)"
   ]
  },
  {
   "cell_type": "markdown",
   "metadata": {},
   "source": [
    "**sub_grade** looks like bond grading so it is probably worth keeping when we want to know about the loan default probability."
   ]
  },
  {
   "cell_type": "markdown",
   "metadata": {},
   "source": [
    "<a id='3.1.2'></a>\n",
    "### 4.1.2. Analysing the continuous features "
   ]
  },
  {
   "cell_type": "markdown",
   "metadata": {},
   "source": [
    "### Treatment of Annual Income"
   ]
  },
  {
   "cell_type": "markdown",
   "metadata": {},
   "source": [
    "#### Feature : Annual Income"
   ]
  },
  {
   "cell_type": "code",
   "execution_count": 47,
   "metadata": {},
   "outputs": [
    {
     "data": {
      "text/plain": [
       "0        78000.0\n",
       "1        58000.0\n",
       "2        63800.0\n",
       "4        50000.0\n",
       "5        69000.0\n",
       "          ...   \n",
       "99994    84136.0\n",
       "99995    91000.0\n",
       "99996    53133.0\n",
       "99998    52000.0\n",
       "99999    60000.0\n",
       "Name: annual_inc, Length: 86138, dtype: float64"
      ]
     },
     "execution_count": 47,
     "metadata": {},
     "output_type": "execute_result"
    }
   ],
   "source": [
    "dataset_reduced['annual_inc']"
   ]
  },
  {
   "cell_type": "markdown",
   "metadata": {},
   "source": [
    "In order to avoid outweighting this feature because of its high values, we will perform a normalisation."
   ]
  },
  {
   "cell_type": "code",
   "execution_count": 48,
   "metadata": {},
   "outputs": [],
   "source": [
    "dataset_reduced['annual_inc'] = StandardScaler().fit_transform(dataset_reduced.annual_inc.values.reshape(-1,1))"
   ]
  },
  {
   "cell_type": "code",
   "execution_count": 49,
   "metadata": {},
   "outputs": [
    {
     "data": {
      "text/plain": [
       "0        0.070107\n",
       "1       -0.267200\n",
       "2       -0.169381\n",
       "4       -0.402122\n",
       "5       -0.081681\n",
       "           ...   \n",
       "99994    0.173593\n",
       "99995    0.289357\n",
       "99996   -0.349283\n",
       "99998   -0.368392\n",
       "99999   -0.233469\n",
       "Name: annual_inc, Length: 86138, dtype: float64"
      ]
     },
     "execution_count": 49,
     "metadata": {},
     "output_type": "execute_result"
    }
   ],
   "source": [
    "dataset_reduced['annual_inc']"
   ]
  },
  {
   "cell_type": "code",
   "execution_count": 50,
   "metadata": {},
   "outputs": [
    {
     "data": {
      "text/plain": [
       "count    8.613800e+04\n",
       "mean     2.574813e-16\n",
       "std      1.000006e+00\n",
       "min     -1.177928e+00\n",
       "25%     -4.864491e-01\n",
       "50%     -1.917487e-01\n",
       "75%      2.724915e-01\n",
       "max      1.252447e+02\n",
       "Name: annual_inc, dtype: float64"
      ]
     },
     "execution_count": 50,
     "metadata": {},
     "output_type": "execute_result"
    }
   ],
   "source": [
    "dataset_reduced['annual_inc'].describe()"
   ]
  },
  {
   "cell_type": "markdown",
   "metadata": {},
   "source": [
    "### Treatment of the two FICO scores"
   ]
  },
  {
   "cell_type": "code",
   "execution_count": 51,
   "metadata": {},
   "outputs": [
    {
     "data": {
      "text/plain": [
       "0        750.0\n",
       "1        710.0\n",
       "2        685.0\n",
       "4        685.0\n",
       "5        680.0\n",
       "         ...  \n",
       "99994    700.0\n",
       "99995    705.0\n",
       "99996    690.0\n",
       "99998    660.0\n",
       "99999    730.0\n",
       "Name: fico_range_low, Length: 86138, dtype: float64"
      ]
     },
     "execution_count": 51,
     "metadata": {},
     "output_type": "execute_result"
    }
   ],
   "source": [
    "dataset_reduced['fico_range_low']"
   ]
  },
  {
   "cell_type": "code",
   "execution_count": 52,
   "metadata": {},
   "outputs": [
    {
     "data": {
      "text/plain": [
       "0        754.0\n",
       "1        714.0\n",
       "2        689.0\n",
       "4        689.0\n",
       "5        684.0\n",
       "         ...  \n",
       "99994    704.0\n",
       "99995    709.0\n",
       "99996    694.0\n",
       "99998    664.0\n",
       "99999    734.0\n",
       "Name: fico_range_high, Length: 86138, dtype: float64"
      ]
     },
     "execution_count": 52,
     "metadata": {},
     "output_type": "execute_result"
    }
   ],
   "source": [
    "dataset_reduced['fico_range_high']"
   ]
  },
  {
   "cell_type": "code",
   "execution_count": 53,
   "metadata": {},
   "outputs": [
    {
     "name": "stdout",
     "output_type": "stream",
     "text": [
      "                 fico_range_low  fico_range_high\n",
      "fico_range_low              1.0              1.0\n",
      "fico_range_high             1.0              1.0\n"
     ]
    }
   ],
   "source": [
    "fico_corr = dataset_reduced[['fico_range_low', 'fico_range_high']].corr()\n",
    "print(fico_corr)"
   ]
  },
  {
   "cell_type": "markdown",
   "metadata": {},
   "source": [
    "As the correlation is 1, we can create a new feature of the average of the two and standardize it."
   ]
  },
  {
   "cell_type": "code",
   "execution_count": 54,
   "metadata": {},
   "outputs": [],
   "source": [
    "dataset_reduced['fico_range_avg'] = (dataset_reduced['fico_range_high'] + dataset_reduced['fico_range_low']) / 2\n",
    "\n",
    "dataset_reduced = dataset_reduced.drop(columns=['fico_range_high', 'fico_range_low']) # we drop the original features to avoid duplication of information"
   ]
  },
  {
   "cell_type": "code",
   "execution_count": 55,
   "metadata": {},
   "outputs": [
    {
     "data": {
      "text/plain": [
       "0        752.0\n",
       "1        712.0\n",
       "2        687.0\n",
       "4        687.0\n",
       "5        682.0\n",
       "         ...  \n",
       "99994    702.0\n",
       "99995    707.0\n",
       "99996    692.0\n",
       "99998    662.0\n",
       "99999    732.0\n",
       "Name: fico_range_avg, Length: 86138, dtype: float64"
      ]
     },
     "execution_count": 55,
     "metadata": {},
     "output_type": "execute_result"
    }
   ],
   "source": [
    "dataset_reduced['fico_range_avg']"
   ]
  },
  {
   "cell_type": "code",
   "execution_count": 56,
   "metadata": {},
   "outputs": [],
   "source": [
    "dataset_reduced['fico_range_avg'] = StandardScaler().fit_transform(dataset_reduced.fico_range_avg.values.reshape(-1,1))"
   ]
  },
  {
   "cell_type": "code",
   "execution_count": 57,
   "metadata": {},
   "outputs": [
    {
     "data": {
      "text/plain": [
       "count    8.613800e+04\n",
       "mean    -4.517803e-15\n",
       "std      1.000006e+00\n",
       "min     -1.091871e+00\n",
       "25%     -7.555278e-01\n",
       "50%     -2.510129e-01\n",
       "75%      4.216738e-01\n",
       "max      5.147297e+00\n",
       "Name: fico_range_avg, dtype: float64"
      ]
     },
     "execution_count": 57,
     "metadata": {},
     "output_type": "execute_result"
    }
   ],
   "source": [
    "dataset_reduced['fico_range_avg'].describe()"
   ]
  },
  {
   "cell_type": "markdown",
   "metadata": {},
   "source": [
    "<a id='3.2'></a>\n",
    "## 4.2. Encoding Categorical Data"
   ]
  },
  {
   "cell_type": "code",
   "execution_count": 58,
   "metadata": {},
   "outputs": [
    {
     "name": "stdout",
     "output_type": "stream",
     "text": [
      "Transformed column: addr_state\n",
      "Transformed column: earliest_cr_line\n",
      "Transformed column: grade\n",
      "Transformed column: home_ownership\n",
      "Transformed column: purpose\n",
      "Transformed column: sub_grade\n",
      "Transformed column: verification_status\n"
     ]
    }
   ],
   "source": [
    "le = LabelEncoder()\n",
    "for j in dataset_reduced.columns:  \n",
    "    if dataset_reduced[j].dtype == 'object':  # check if categorical data\n",
    "        dataset_reduced[j] = le.fit_transform(dataset_reduced[j].astype(str))\n",
    "        print(f'Transformed column: {j}')"
   ]
  },
  {
   "cell_type": "code",
   "execution_count": 59,
   "metadata": {},
   "outputs": [],
   "source": [
    "X = dataset_reduced.drop(columns=['loan_status'])  # features\n",
    "y = dataset_reduced['loan_status']  # target variable\n",
    "\n",
    "scaler = StandardScaler()\n",
    "\n",
    "X_standardized = scaler.fit_transform(X)\n",
    "\n",
    "X_standardized_dataset = pd.DataFrame(X_standardized, columns = X.columns) #back to the df\n",
    "\n",
    "final_dataset = pd.concat([X_standardized_dataset, y.reset_index(drop = True)], axis = 1)"
   ]
  },
  {
   "cell_type": "code",
   "execution_count": 60,
   "metadata": {},
   "outputs": [
    {
     "data": {
      "text/html": [
       "<div>\n",
       "<style scoped>\n",
       "    .dataframe tbody tr th:only-of-type {\n",
       "        vertical-align: middle;\n",
       "    }\n",
       "\n",
       "    .dataframe tbody tr th {\n",
       "        vertical-align: top;\n",
       "    }\n",
       "\n",
       "    .dataframe thead th {\n",
       "        text-align: right;\n",
       "    }\n",
       "</style>\n",
       "<table border=\"1\" class=\"dataframe\">\n",
       "  <thead>\n",
       "    <tr style=\"text-align: right;\">\n",
       "      <th></th>\n",
       "      <th>funded_amnt</th>\n",
       "      <th>addr_state</th>\n",
       "      <th>annual_inc</th>\n",
       "      <th>dti</th>\n",
       "      <th>earliest_cr_line</th>\n",
       "      <th>emp_length</th>\n",
       "      <th>grade</th>\n",
       "      <th>home_ownership</th>\n",
       "      <th>installment</th>\n",
       "      <th>int_rate</th>\n",
       "      <th>...</th>\n",
       "      <th>last_pymnt_amnt</th>\n",
       "      <th>num_actv_rev_tl</th>\n",
       "      <th>mo_sin_rcnt_rev_tl_op</th>\n",
       "      <th>mo_sin_old_rev_tl_op</th>\n",
       "      <th>bc_util</th>\n",
       "      <th>bc_open_to_buy</th>\n",
       "      <th>avg_cur_bal</th>\n",
       "      <th>acc_open_past_24mths</th>\n",
       "      <th>fico_range_avg</th>\n",
       "      <th>loan_status</th>\n",
       "    </tr>\n",
       "  </thead>\n",
       "  <tbody>\n",
       "    <tr>\n",
       "      <th>0</th>\n",
       "      <td>0.106479</td>\n",
       "      <td>1.498080</td>\n",
       "      <td>0.070107</td>\n",
       "      <td>-0.761607</td>\n",
       "      <td>-1.327004</td>\n",
       "      <td>1.084953</td>\n",
       "      <td>0.179621</td>\n",
       "      <td>1.139163</td>\n",
       "      <td>-0.373918</td>\n",
       "      <td>-0.139255</td>\n",
       "      <td>...</td>\n",
       "      <td>1.122725</td>\n",
       "      <td>-0.546539</td>\n",
       "      <td>-0.727104</td>\n",
       "      <td>0.648422</td>\n",
       "      <td>-2.185078</td>\n",
       "      <td>0.041311</td>\n",
       "      <td>1.032571</td>\n",
       "      <td>0.131967</td>\n",
       "      <td>1.935219</td>\n",
       "      <td>0</td>\n",
       "    </tr>\n",
       "    <tr>\n",
       "      <th>1</th>\n",
       "      <td>-0.441722</td>\n",
       "      <td>-1.259750</td>\n",
       "      <td>-0.267200</td>\n",
       "      <td>-0.423128</td>\n",
       "      <td>1.430516</td>\n",
       "      <td>0.541970</td>\n",
       "      <td>-1.303241</td>\n",
       "      <td>-0.980836</td>\n",
       "      <td>-0.435750</td>\n",
       "      <td>-1.367255</td>\n",
       "      <td>...</td>\n",
       "      <td>-0.686030</td>\n",
       "      <td>1.004051</td>\n",
       "      <td>-0.727104</td>\n",
       "      <td>1.141636</td>\n",
       "      <td>-0.824694</td>\n",
       "      <td>-0.095283</td>\n",
       "      <td>-0.217502</td>\n",
       "      <td>0.783225</td>\n",
       "      <td>0.589845</td>\n",
       "      <td>1</td>\n",
       "    </tr>\n",
       "    <tr>\n",
       "      <th>2</th>\n",
       "      <td>0.872172</td>\n",
       "      <td>0.042559</td>\n",
       "      <td>-0.169381</td>\n",
       "      <td>-0.005007</td>\n",
       "      <td>-1.276459</td>\n",
       "      <td>-0.001014</td>\n",
       "      <td>0.921051</td>\n",
       "      <td>1.139163</td>\n",
       "      <td>0.340243</td>\n",
       "      <td>0.588449</td>\n",
       "      <td>...</td>\n",
       "      <td>2.018909</td>\n",
       "      <td>-0.546539</td>\n",
       "      <td>-0.357293</td>\n",
       "      <td>-0.509558</td>\n",
       "      <td>1.256545</td>\n",
       "      <td>-0.611237</td>\n",
       "      <td>-0.544251</td>\n",
       "      <td>-0.193662</td>\n",
       "      <td>-0.251013</td>\n",
       "      <td>0</td>\n",
       "    </tr>\n",
       "    <tr>\n",
       "      <th>3</th>\n",
       "      <td>-0.769450</td>\n",
       "      <td>-1.336356</td>\n",
       "      <td>-0.402122</td>\n",
       "      <td>1.906404</td>\n",
       "      <td>-1.282075</td>\n",
       "      <td>-1.629964</td>\n",
       "      <td>0.179621</td>\n",
       "      <td>1.139163</td>\n",
       "      <td>-0.677672</td>\n",
       "      <td>0.149552</td>\n",
       "      <td>...</td>\n",
       "      <td>-0.732944</td>\n",
       "      <td>-0.546539</td>\n",
       "      <td>-0.295658</td>\n",
       "      <td>-0.380893</td>\n",
       "      <td>1.086497</td>\n",
       "      <td>-0.610670</td>\n",
       "      <td>-0.444144</td>\n",
       "      <td>0.457596</td>\n",
       "      <td>-0.251013</td>\n",
       "      <td>1</td>\n",
       "    </tr>\n",
       "    <tr>\n",
       "      <th>4</th>\n",
       "      <td>-0.537061</td>\n",
       "      <td>0.425591</td>\n",
       "      <td>-0.081681</td>\n",
       "      <td>0.852317</td>\n",
       "      <td>0.896984</td>\n",
       "      <td>1.084953</td>\n",
       "      <td>0.179621</td>\n",
       "      <td>1.139163</td>\n",
       "      <td>-0.414093</td>\n",
       "      <td>0.149552</td>\n",
       "      <td>...</td>\n",
       "      <td>0.708415</td>\n",
       "      <td>0.383815</td>\n",
       "      <td>0.628871</td>\n",
       "      <td>0.873585</td>\n",
       "      <td>0.199290</td>\n",
       "      <td>-0.173652</td>\n",
       "      <td>-0.606964</td>\n",
       "      <td>1.108855</td>\n",
       "      <td>-0.419185</td>\n",
       "      <td>0</td>\n",
       "    </tr>\n",
       "  </tbody>\n",
       "</table>\n",
       "<p>5 rows × 28 columns</p>\n",
       "</div>"
      ],
      "text/plain": [
       "   funded_amnt  addr_state  annual_inc       dti  earliest_cr_line  \\\n",
       "0     0.106479    1.498080    0.070107 -0.761607         -1.327004   \n",
       "1    -0.441722   -1.259750   -0.267200 -0.423128          1.430516   \n",
       "2     0.872172    0.042559   -0.169381 -0.005007         -1.276459   \n",
       "3    -0.769450   -1.336356   -0.402122  1.906404         -1.282075   \n",
       "4    -0.537061    0.425591   -0.081681  0.852317          0.896984   \n",
       "\n",
       "   emp_length     grade  home_ownership  installment  int_rate  ...  \\\n",
       "0    1.084953  0.179621        1.139163    -0.373918 -0.139255  ...   \n",
       "1    0.541970 -1.303241       -0.980836    -0.435750 -1.367255  ...   \n",
       "2   -0.001014  0.921051        1.139163     0.340243  0.588449  ...   \n",
       "3   -1.629964  0.179621        1.139163    -0.677672  0.149552  ...   \n",
       "4    1.084953  0.179621        1.139163    -0.414093  0.149552  ...   \n",
       "\n",
       "   last_pymnt_amnt  num_actv_rev_tl  mo_sin_rcnt_rev_tl_op  \\\n",
       "0         1.122725        -0.546539              -0.727104   \n",
       "1        -0.686030         1.004051              -0.727104   \n",
       "2         2.018909        -0.546539              -0.357293   \n",
       "3        -0.732944        -0.546539              -0.295658   \n",
       "4         0.708415         0.383815               0.628871   \n",
       "\n",
       "   mo_sin_old_rev_tl_op   bc_util  bc_open_to_buy  avg_cur_bal  \\\n",
       "0              0.648422 -2.185078        0.041311     1.032571   \n",
       "1              1.141636 -0.824694       -0.095283    -0.217502   \n",
       "2             -0.509558  1.256545       -0.611237    -0.544251   \n",
       "3             -0.380893  1.086497       -0.610670    -0.444144   \n",
       "4              0.873585  0.199290       -0.173652    -0.606964   \n",
       "\n",
       "   acc_open_past_24mths  fico_range_avg  loan_status  \n",
       "0              0.131967        1.935219            0  \n",
       "1              0.783225        0.589845            1  \n",
       "2             -0.193662       -0.251013            0  \n",
       "3              0.457596       -0.251013            1  \n",
       "4              1.108855       -0.419185            0  \n",
       "\n",
       "[5 rows x 28 columns]"
      ]
     },
     "execution_count": 60,
     "metadata": {},
     "output_type": "execute_result"
    }
   ],
   "source": [
    "final_dataset.head()"
   ]
  },
  {
   "cell_type": "code",
   "execution_count": 61,
   "metadata": {},
   "outputs": [
    {
     "data": {
      "text/html": [
       "<div>\n",
       "<style scoped>\n",
       "    .dataframe tbody tr th:only-of-type {\n",
       "        vertical-align: middle;\n",
       "    }\n",
       "\n",
       "    .dataframe tbody tr th {\n",
       "        vertical-align: top;\n",
       "    }\n",
       "\n",
       "    .dataframe thead th {\n",
       "        text-align: right;\n",
       "    }\n",
       "</style>\n",
       "<table border=\"1\" class=\"dataframe\">\n",
       "  <thead>\n",
       "    <tr style=\"text-align: right;\">\n",
       "      <th></th>\n",
       "      <th>funded_amnt</th>\n",
       "      <th>addr_state</th>\n",
       "      <th>annual_inc</th>\n",
       "      <th>dti</th>\n",
       "      <th>earliest_cr_line</th>\n",
       "      <th>emp_length</th>\n",
       "      <th>grade</th>\n",
       "      <th>home_ownership</th>\n",
       "      <th>installment</th>\n",
       "      <th>int_rate</th>\n",
       "      <th>...</th>\n",
       "      <th>last_pymnt_amnt</th>\n",
       "      <th>num_actv_rev_tl</th>\n",
       "      <th>mo_sin_rcnt_rev_tl_op</th>\n",
       "      <th>mo_sin_old_rev_tl_op</th>\n",
       "      <th>bc_util</th>\n",
       "      <th>bc_open_to_buy</th>\n",
       "      <th>avg_cur_bal</th>\n",
       "      <th>acc_open_past_24mths</th>\n",
       "      <th>fico_range_avg</th>\n",
       "      <th>loan_status</th>\n",
       "    </tr>\n",
       "  </thead>\n",
       "  <tbody>\n",
       "    <tr>\n",
       "      <th>86133</th>\n",
       "      <td>0.106479</td>\n",
       "      <td>-1.412962</td>\n",
       "      <td>0.173593</td>\n",
       "      <td>-0.949000</td>\n",
       "      <td>0.852055</td>\n",
       "      <td>1.084953</td>\n",
       "      <td>-0.561810</td>\n",
       "      <td>-0.980836</td>\n",
       "      <td>0.215905</td>\n",
       "      <td>-0.648648</td>\n",
       "      <td>...</td>\n",
       "      <td>0.901144</td>\n",
       "      <td>-0.236421</td>\n",
       "      <td>-0.603834</td>\n",
       "      <td>1.849290</td>\n",
       "      <td>-1.201757</td>\n",
       "      <td>1.358039</td>\n",
       "      <td>0.076658</td>\n",
       "      <td>0.131967</td>\n",
       "      <td>0.253502</td>\n",
       "      <td>0</td>\n",
       "    </tr>\n",
       "    <tr>\n",
       "      <th>86134</th>\n",
       "      <td>-0.680070</td>\n",
       "      <td>-0.646899</td>\n",
       "      <td>0.289357</td>\n",
       "      <td>-1.259370</td>\n",
       "      <td>-1.349469</td>\n",
       "      <td>-1.086980</td>\n",
       "      <td>-0.561810</td>\n",
       "      <td>-0.980836</td>\n",
       "      <td>-0.647511</td>\n",
       "      <td>-0.871507</td>\n",
       "      <td>...</td>\n",
       "      <td>-0.694316</td>\n",
       "      <td>-1.166775</td>\n",
       "      <td>-0.480563</td>\n",
       "      <td>1.109470</td>\n",
       "      <td>0.495026</td>\n",
       "      <td>-0.456557</td>\n",
       "      <td>0.757570</td>\n",
       "      <td>-0.844920</td>\n",
       "      <td>0.421674</td>\n",
       "      <td>0</td>\n",
       "    </tr>\n",
       "    <tr>\n",
       "      <th>86135</th>\n",
       "      <td>-0.489391</td>\n",
       "      <td>0.502197</td>\n",
       "      <td>-0.349283</td>\n",
       "      <td>-0.384478</td>\n",
       "      <td>0.672338</td>\n",
       "      <td>-0.815489</td>\n",
       "      <td>0.179621</td>\n",
       "      <td>1.139163</td>\n",
       "      <td>-0.372885</td>\n",
       "      <td>-0.002811</td>\n",
       "      <td>...</td>\n",
       "      <td>0.129482</td>\n",
       "      <td>-0.236421</td>\n",
       "      <td>-0.480563</td>\n",
       "      <td>-0.273673</td>\n",
       "      <td>-0.787727</td>\n",
       "      <td>0.356841</td>\n",
       "      <td>-0.545052</td>\n",
       "      <td>-0.519291</td>\n",
       "      <td>-0.082841</td>\n",
       "      <td>0</td>\n",
       "    </tr>\n",
       "    <tr>\n",
       "      <th>86136</th>\n",
       "      <td>-0.671132</td>\n",
       "      <td>0.042559</td>\n",
       "      <td>-0.368392</td>\n",
       "      <td>-0.108073</td>\n",
       "      <td>0.941913</td>\n",
       "      <td>1.084953</td>\n",
       "      <td>2.403913</td>\n",
       "      <td>1.139163</td>\n",
       "      <td>-0.372806</td>\n",
       "      <td>2.726078</td>\n",
       "      <td>...</td>\n",
       "      <td>-0.683581</td>\n",
       "      <td>-0.856657</td>\n",
       "      <td>-0.357293</td>\n",
       "      <td>-0.209341</td>\n",
       "      <td>0.894269</td>\n",
       "      <td>-0.611237</td>\n",
       "      <td>-0.612447</td>\n",
       "      <td>1.108855</td>\n",
       "      <td>-1.091871</td>\n",
       "      <td>1</td>\n",
       "    </tr>\n",
       "    <tr>\n",
       "      <th>86137</th>\n",
       "      <td>1.298219</td>\n",
       "      <td>-0.570292</td>\n",
       "      <td>-0.233469</td>\n",
       "      <td>1.087730</td>\n",
       "      <td>-0.175697</td>\n",
       "      <td>-0.815489</td>\n",
       "      <td>-0.561810</td>\n",
       "      <td>0.079163</td>\n",
       "      <td>1.500935</td>\n",
       "      <td>-0.648648</td>\n",
       "      <td>...</td>\n",
       "      <td>0.000360</td>\n",
       "      <td>0.383815</td>\n",
       "      <td>-0.727104</td>\n",
       "      <td>-0.037788</td>\n",
       "      <td>-0.236920</td>\n",
       "      <td>0.582300</td>\n",
       "      <td>-0.180725</td>\n",
       "      <td>0.131967</td>\n",
       "      <td>1.262532</td>\n",
       "      <td>0</td>\n",
       "    </tr>\n",
       "  </tbody>\n",
       "</table>\n",
       "<p>5 rows × 28 columns</p>\n",
       "</div>"
      ],
      "text/plain": [
       "       funded_amnt  addr_state  annual_inc       dti  earliest_cr_line  \\\n",
       "86133     0.106479   -1.412962    0.173593 -0.949000          0.852055   \n",
       "86134    -0.680070   -0.646899    0.289357 -1.259370         -1.349469   \n",
       "86135    -0.489391    0.502197   -0.349283 -0.384478          0.672338   \n",
       "86136    -0.671132    0.042559   -0.368392 -0.108073          0.941913   \n",
       "86137     1.298219   -0.570292   -0.233469  1.087730         -0.175697   \n",
       "\n",
       "       emp_length     grade  home_ownership  installment  int_rate  ...  \\\n",
       "86133    1.084953 -0.561810       -0.980836     0.215905 -0.648648  ...   \n",
       "86134   -1.086980 -0.561810       -0.980836    -0.647511 -0.871507  ...   \n",
       "86135   -0.815489  0.179621        1.139163    -0.372885 -0.002811  ...   \n",
       "86136    1.084953  2.403913        1.139163    -0.372806  2.726078  ...   \n",
       "86137   -0.815489 -0.561810        0.079163     1.500935 -0.648648  ...   \n",
       "\n",
       "       last_pymnt_amnt  num_actv_rev_tl  mo_sin_rcnt_rev_tl_op  \\\n",
       "86133         0.901144        -0.236421              -0.603834   \n",
       "86134        -0.694316        -1.166775              -0.480563   \n",
       "86135         0.129482        -0.236421              -0.480563   \n",
       "86136        -0.683581        -0.856657              -0.357293   \n",
       "86137         0.000360         0.383815              -0.727104   \n",
       "\n",
       "       mo_sin_old_rev_tl_op   bc_util  bc_open_to_buy  avg_cur_bal  \\\n",
       "86133              1.849290 -1.201757        1.358039     0.076658   \n",
       "86134              1.109470  0.495026       -0.456557     0.757570   \n",
       "86135             -0.273673 -0.787727        0.356841    -0.545052   \n",
       "86136             -0.209341  0.894269       -0.611237    -0.612447   \n",
       "86137             -0.037788 -0.236920        0.582300    -0.180725   \n",
       "\n",
       "       acc_open_past_24mths  fico_range_avg  loan_status  \n",
       "86133              0.131967        0.253502            0  \n",
       "86134             -0.844920        0.421674            0  \n",
       "86135             -0.519291       -0.082841            0  \n",
       "86136              1.108855       -1.091871            1  \n",
       "86137              0.131967        1.262532            0  \n",
       "\n",
       "[5 rows x 28 columns]"
      ]
     },
     "execution_count": 61,
     "metadata": {},
     "output_type": "execute_result"
    }
   ],
   "source": [
    "final_dataset.tail()"
   ]
  },
  {
   "cell_type": "markdown",
   "metadata": {},
   "source": [
    "<a id='3.4'></a>\n",
    "## 4.3. Sampling Data"
   ]
  },
  {
   "cell_type": "code",
   "execution_count": 62,
   "metadata": {},
   "outputs": [
    {
     "name": "stdout",
     "output_type": "stream",
     "text": [
      "Balanced dataset shape: (11000, 28)\n"
     ]
    }
   ],
   "source": [
    "charged_off_sample = final_dataset[final_dataset['loan_status'] == 1].sample(n=5500, random_state=13)\n",
    "fully_paid_sample = final_dataset[final_dataset['loan_status'] == 0].sample(n=5500, random_state=13)\n",
    "\n",
    "balanced_dataset = pd.concat([charged_off_sample, fully_paid_sample])\n",
    "\n",
    "print('Balanced dataset shape:', balanced_dataset.shape)"
   ]
  },
  {
   "cell_type": "code",
   "execution_count": 63,
   "metadata": {},
   "outputs": [
    {
     "data": {
      "text/html": [
       "<div>\n",
       "<style scoped>\n",
       "    .dataframe tbody tr th:only-of-type {\n",
       "        vertical-align: middle;\n",
       "    }\n",
       "\n",
       "    .dataframe tbody tr th {\n",
       "        vertical-align: top;\n",
       "    }\n",
       "\n",
       "    .dataframe thead th {\n",
       "        text-align: right;\n",
       "    }\n",
       "</style>\n",
       "<table border=\"1\" class=\"dataframe\">\n",
       "  <thead>\n",
       "    <tr style=\"text-align: right;\">\n",
       "      <th></th>\n",
       "      <th>funded_amnt</th>\n",
       "      <th>addr_state</th>\n",
       "      <th>annual_inc</th>\n",
       "      <th>dti</th>\n",
       "      <th>earliest_cr_line</th>\n",
       "      <th>emp_length</th>\n",
       "      <th>grade</th>\n",
       "      <th>home_ownership</th>\n",
       "      <th>installment</th>\n",
       "      <th>int_rate</th>\n",
       "      <th>...</th>\n",
       "      <th>last_pymnt_amnt</th>\n",
       "      <th>num_actv_rev_tl</th>\n",
       "      <th>mo_sin_rcnt_rev_tl_op</th>\n",
       "      <th>mo_sin_old_rev_tl_op</th>\n",
       "      <th>bc_util</th>\n",
       "      <th>bc_open_to_buy</th>\n",
       "      <th>avg_cur_bal</th>\n",
       "      <th>acc_open_past_24mths</th>\n",
       "      <th>fico_range_avg</th>\n",
       "      <th>loan_status</th>\n",
       "    </tr>\n",
       "  </thead>\n",
       "  <tbody>\n",
       "    <tr>\n",
       "      <th>8425</th>\n",
       "      <td>-0.411928</td>\n",
       "      <td>-1.259750</td>\n",
       "      <td>-0.408531</td>\n",
       "      <td>1.930999</td>\n",
       "      <td>0.868903</td>\n",
       "      <td>NaN</td>\n",
       "      <td>1.662482</td>\n",
       "      <td>0.079163</td>\n",
       "      <td>-0.624503</td>\n",
       "      <td>1.259300</td>\n",
       "      <td>...</td>\n",
       "      <td>-0.693376</td>\n",
       "      <td>-0.236421</td>\n",
       "      <td>-0.110752</td>\n",
       "      <td>1.506185</td>\n",
       "      <td>0.750098</td>\n",
       "      <td>-0.540670</td>\n",
       "      <td>-0.444329</td>\n",
       "      <td>-0.519291</td>\n",
       "      <td>-0.419185</td>\n",
       "      <td>1</td>\n",
       "    </tr>\n",
       "    <tr>\n",
       "      <th>15574</th>\n",
       "      <td>0.261405</td>\n",
       "      <td>-0.340473</td>\n",
       "      <td>-0.570776</td>\n",
       "      <td>2.087941</td>\n",
       "      <td>1.475445</td>\n",
       "      <td>0.270478</td>\n",
       "      <td>1.662482</td>\n",
       "      <td>-0.980836</td>\n",
       "      <td>-0.047753</td>\n",
       "      <td>1.259300</td>\n",
       "      <td>...</td>\n",
       "      <td>-0.670932</td>\n",
       "      <td>-0.236421</td>\n",
       "      <td>0.197424</td>\n",
       "      <td>-0.145008</td>\n",
       "      <td>0.709434</td>\n",
       "      <td>-0.437338</td>\n",
       "      <td>-0.269620</td>\n",
       "      <td>0.131967</td>\n",
       "      <td>0.758017</td>\n",
       "      <td>1</td>\n",
       "    </tr>\n",
       "    <tr>\n",
       "      <th>29433</th>\n",
       "      <td>-1.442783</td>\n",
       "      <td>0.732016</td>\n",
       "      <td>-0.435853</td>\n",
       "      <td>1.108812</td>\n",
       "      <td>1.497910</td>\n",
       "      <td>1.084953</td>\n",
       "      <td>0.179621</td>\n",
       "      <td>0.079163</td>\n",
       "      <td>-1.442499</td>\n",
       "      <td>0.079056</td>\n",
       "      <td>...</td>\n",
       "      <td>-0.725208</td>\n",
       "      <td>1.314169</td>\n",
       "      <td>-0.418928</td>\n",
       "      <td>-1.099269</td>\n",
       "      <td>0.395215</td>\n",
       "      <td>-0.286630</td>\n",
       "      <td>-0.444637</td>\n",
       "      <td>0.457596</td>\n",
       "      <td>-0.251013</td>\n",
       "      <td>1</td>\n",
       "    </tr>\n",
       "    <tr>\n",
       "      <th>58546</th>\n",
       "      <td>0.198839</td>\n",
       "      <td>0.272378</td>\n",
       "      <td>-0.503314</td>\n",
       "      <td>0.800784</td>\n",
       "      <td>0.402764</td>\n",
       "      <td>NaN</td>\n",
       "      <td>0.921051</td>\n",
       "      <td>-0.980836</td>\n",
       "      <td>0.501220</td>\n",
       "      <td>0.747634</td>\n",
       "      <td>...</td>\n",
       "      <td>-0.649568</td>\n",
       "      <td>0.383815</td>\n",
       "      <td>-0.234022</td>\n",
       "      <td>-0.702554</td>\n",
       "      <td>0.406305</td>\n",
       "      <td>-0.516202</td>\n",
       "      <td>-0.552383</td>\n",
       "      <td>2.737000</td>\n",
       "      <td>-0.755528</td>\n",
       "      <td>1</td>\n",
       "    </tr>\n",
       "    <tr>\n",
       "      <th>39595</th>\n",
       "      <td>-0.251043</td>\n",
       "      <td>-1.259750</td>\n",
       "      <td>-0.267200</td>\n",
       "      <td>0.053554</td>\n",
       "      <td>0.891367</td>\n",
       "      <td>1.084953</td>\n",
       "      <td>0.179621</td>\n",
       "      <td>1.139163</td>\n",
       "      <td>-0.577454</td>\n",
       "      <td>0.452004</td>\n",
       "      <td>...</td>\n",
       "      <td>-0.691545</td>\n",
       "      <td>0.693933</td>\n",
       "      <td>-0.665469</td>\n",
       "      <td>0.155209</td>\n",
       "      <td>-0.114929</td>\n",
       "      <td>-0.411310</td>\n",
       "      <td>-0.717790</td>\n",
       "      <td>-0.193662</td>\n",
       "      <td>-0.755528</td>\n",
       "      <td>1</td>\n",
       "    </tr>\n",
       "  </tbody>\n",
       "</table>\n",
       "<p>5 rows × 28 columns</p>\n",
       "</div>"
      ],
      "text/plain": [
       "       funded_amnt  addr_state  annual_inc       dti  earliest_cr_line  \\\n",
       "8425     -0.411928   -1.259750   -0.408531  1.930999          0.868903   \n",
       "15574     0.261405   -0.340473   -0.570776  2.087941          1.475445   \n",
       "29433    -1.442783    0.732016   -0.435853  1.108812          1.497910   \n",
       "58546     0.198839    0.272378   -0.503314  0.800784          0.402764   \n",
       "39595    -0.251043   -1.259750   -0.267200  0.053554          0.891367   \n",
       "\n",
       "       emp_length     grade  home_ownership  installment  int_rate  ...  \\\n",
       "8425          NaN  1.662482        0.079163    -0.624503  1.259300  ...   \n",
       "15574    0.270478  1.662482       -0.980836    -0.047753  1.259300  ...   \n",
       "29433    1.084953  0.179621        0.079163    -1.442499  0.079056  ...   \n",
       "58546         NaN  0.921051       -0.980836     0.501220  0.747634  ...   \n",
       "39595    1.084953  0.179621        1.139163    -0.577454  0.452004  ...   \n",
       "\n",
       "       last_pymnt_amnt  num_actv_rev_tl  mo_sin_rcnt_rev_tl_op  \\\n",
       "8425         -0.693376        -0.236421              -0.110752   \n",
       "15574        -0.670932        -0.236421               0.197424   \n",
       "29433        -0.725208         1.314169              -0.418928   \n",
       "58546        -0.649568         0.383815              -0.234022   \n",
       "39595        -0.691545         0.693933              -0.665469   \n",
       "\n",
       "       mo_sin_old_rev_tl_op   bc_util  bc_open_to_buy  avg_cur_bal  \\\n",
       "8425               1.506185  0.750098       -0.540670    -0.444329   \n",
       "15574             -0.145008  0.709434       -0.437338    -0.269620   \n",
       "29433             -1.099269  0.395215       -0.286630    -0.444637   \n",
       "58546             -0.702554  0.406305       -0.516202    -0.552383   \n",
       "39595              0.155209 -0.114929       -0.411310    -0.717790   \n",
       "\n",
       "       acc_open_past_24mths  fico_range_avg  loan_status  \n",
       "8425              -0.519291       -0.419185            1  \n",
       "15574              0.131967        0.758017            1  \n",
       "29433              0.457596       -0.251013            1  \n",
       "58546              2.737000       -0.755528            1  \n",
       "39595             -0.193662       -0.755528            1  \n",
       "\n",
       "[5 rows x 28 columns]"
      ]
     },
     "execution_count": 63,
     "metadata": {},
     "output_type": "execute_result"
    }
   ],
   "source": [
    "balanced_dataset.head()"
   ]
  },
  {
   "cell_type": "code",
   "execution_count": 64,
   "metadata": {},
   "outputs": [
    {
     "data": {
      "text/plain": [
       "funded_amnt                0\n",
       "addr_state                 0\n",
       "annual_inc                 0\n",
       "dti                        0\n",
       "earliest_cr_line           0\n",
       "emp_length               652\n",
       "grade                      0\n",
       "home_ownership             0\n",
       "installment                0\n",
       "int_rate                   0\n",
       "loan_amnt                  0\n",
       "mort_acc                   0\n",
       "open_acc                   0\n",
       "purpose                    0\n",
       "revol_util                 6\n",
       "sub_grade                  0\n",
       "term                       0\n",
       "verification_status        0\n",
       "last_pymnt_amnt            0\n",
       "num_actv_rev_tl            0\n",
       "mo_sin_rcnt_rev_tl_op      0\n",
       "mo_sin_old_rev_tl_op       0\n",
       "bc_util                  142\n",
       "bc_open_to_buy           134\n",
       "avg_cur_bal                0\n",
       "acc_open_past_24mths       0\n",
       "fico_range_avg             0\n",
       "loan_status                0\n",
       "dtype: int64"
      ]
     },
     "execution_count": 64,
     "metadata": {},
     "output_type": "execute_result"
    }
   ],
   "source": [
    "pd.set_option('display.max_rows', None)\n",
    "balanced_dataset.isnull().sum()"
   ]
  },
  {
   "cell_type": "code",
   "execution_count": 65,
   "metadata": {},
   "outputs": [],
   "source": [
    "pd.set_option('display.max_rows', 10)"
   ]
  },
  {
   "cell_type": "code",
   "execution_count": 66,
   "metadata": {},
   "outputs": [
    {
     "name": "stdout",
     "output_type": "stream",
     "text": [
      "funded_amnt             0\n",
      "addr_state              0\n",
      "annual_inc              0\n",
      "dti                     0\n",
      "earliest_cr_line        0\n",
      "                       ..\n",
      "bc_open_to_buy          0\n",
      "avg_cur_bal             0\n",
      "acc_open_past_24mths    0\n",
      "fico_range_avg          0\n",
      "loan_status             0\n",
      "Length: 28, dtype: int64\n"
     ]
    }
   ],
   "source": [
    "median_values = balanced_dataset.median()\n",
    "\n",
    "balanced_dataset.fillna(median_values, inplace=True)\n",
    "\n",
    "print(balanced_dataset.isnull().sum())"
   ]
  },
  {
   "cell_type": "markdown",
   "metadata": {},
   "source": [
    "<a id='4'></a>\n",
    "# 5. Algorithms and Models"
   ]
  },
  {
   "cell_type": "markdown",
   "metadata": {},
   "source": [
    "<a id='4.1'></a>\n",
    "## 5.1. Train Test Split"
   ]
  },
  {
   "cell_type": "markdown",
   "metadata": {},
   "source": [
    "### 80:20 split"
   ]
  },
  {
   "cell_type": "code",
   "execution_count": 67,
   "metadata": {},
   "outputs": [
    {
     "name": "stdout",
     "output_type": "stream",
     "text": [
      "Training feature set shape: (8800, 27)\n",
      "Testing feature set shape: (2200, 27)\n",
      "Training target set shape: (8800,)\n",
      "Testing target set shape: (2200,)\n"
     ]
    }
   ],
   "source": [
    "X = balanced_dataset.drop(columns=['loan_status']) \n",
    "y = balanced_dataset['loan_status']                 \n",
    "\n",
    "X_train, X_test, y_train, y_test = train_test_split(X, y, test_size=0.2, random_state=13)\n",
    "\n",
    "print(\"Training feature set shape:\", X_train.shape)\n",
    "print(\"Testing feature set shape:\", X_test.shape)\n",
    "print(\"Training target set shape:\", y_train.shape)\n",
    "print(\"Testing target set shape:\", y_test.shape)"
   ]
  },
  {
   "cell_type": "markdown",
   "metadata": {},
   "source": [
    "<a id='4.2'></a>\n",
    "## 5.2. Test Options and Evaluation Metrics\n"
   ]
  },
  {
   "cell_type": "markdown",
   "metadata": {},
   "source": [
    "### Use K-Folds cross validation with 10 folds and 'roc-auc' score."
   ]
  },
  {
   "cell_type": "code",
   "execution_count": 68,
   "metadata": {
    "_cell_guid": "5702bc31-06bf-8b6a-42de-366a6b3311a8"
   },
   "outputs": [
    {
     "name": "stdout",
     "output_type": "stream",
     "text": [
      "Mean ROC-AUC score: 0.934\n",
      "Standard deviation of ROC-AUC scores: 0.005\n"
     ]
    }
   ],
   "source": [
    "model = RandomForestClassifier(random_state=13) # example model\n",
    "\n",
    "kf = KFold(n_splits=10, shuffle=True, random_state=13)\n",
    "\n",
    "roc_auc_scores = cross_val_score(model, X_train, y_train, cv=kf, scoring='roc_auc')\n",
    "\n",
    "print(f'Mean ROC-AUC score: {roc_auc_scores.mean():.3f}')\n",
    "print(f'Standard deviation of ROC-AUC scores: {roc_auc_scores.std():.3f}')"
   ]
  },
  {
   "cell_type": "markdown",
   "metadata": {},
   "source": [
    "<a id='4.3'></a>\n",
    "## 5.3. Compare Models and Algorithms"
   ]
  },
  {
   "cell_type": "code",
   "execution_count": 69,
   "metadata": {
    "_cell_guid": "772802f7-f4e4-84ee-6377-6464ab2e5da4"
   },
   "outputs": [],
   "source": [
    "# spot check the algorithms\n",
    "models = []\n",
    "models.append(('LR', LogisticRegression()))\n",
    "models.append(('KNN', KNeighborsClassifier()))\n",
    "models.append(('DT', DecisionTreeClassifier()))\n",
    "models.append(('NB', GaussianNB()))\n",
    "# Neural Network\n",
    "models.append(('NN', MLPClassifier()))\n",
    "# Boosting methods\n",
    "models.append(('AB', AdaBoostClassifier()))\n",
    "# Bagging methods\n",
    "models.append(('RF', RandomForestClassifier()))"
   ]
  },
  {
   "cell_type": "markdown",
   "metadata": {},
   "source": [
    "### K-folds cross validation"
   ]
  },
  {
   "cell_type": "markdown",
   "metadata": {},
   "source": [
    "#### Takes time to run (1-3 min)"
   ]
  },
  {
   "cell_type": "code",
   "execution_count": 70,
   "metadata": {},
   "outputs": [
    {
     "name": "stdout",
     "output_type": "stream",
     "text": [
      "LR: Mean ROC-AUC = 0.924, Standard Deviation = 0.009\n",
      "KNN: Mean ROC-AUC = 0.792, Standard Deviation = 0.020\n",
      "DT: Mean ROC-AUC = 0.805, Standard Deviation = 0.014\n",
      "NB: Mean ROC-AUC = 0.908, Standard Deviation = 0.009\n",
      "NN: Mean ROC-AUC = 0.909, Standard Deviation = 0.008\n",
      "AB: Mean ROC-AUC = 0.931, Standard Deviation = 0.006\n",
      "RF: Mean ROC-AUC = 0.934, Standard Deviation = 0.005\n"
     ]
    }
   ],
   "source": [
    "results = {}\n",
    "all_cross_val_results = []\n",
    "\n",
    "for name, model in models:\n",
    "    cross_val_results = cross_val_score(model, X_train, y_train, cv=kf, scoring='roc_auc')\n",
    "    results[name] = {\n",
    "        'Mean ROC-AUC': cross_val_results.mean(),\n",
    "        'Standard Deviation': cross_val_results.std()\n",
    "    }\n",
    "    for score in cross_val_results:\n",
    "        all_cross_val_results.append({'Model': name, 'ROC-AUC': score})\n",
    "\n",
    "for model_name, metrics in results.items():\n",
    "    print(f\"{model_name}: Mean ROC-AUC = {metrics['Mean ROC-AUC']:.3f}, Standard Deviation = {metrics['Standard Deviation']:.3f}\")"
   ]
  },
  {
   "cell_type": "markdown",
   "metadata": {},
   "source": [
    "### Plot a model comparison using a BoxPlot to capture the range of values coming from the K Folds for each model"
   ]
  },
  {
   "cell_type": "code",
   "execution_count": 71,
   "metadata": {},
   "outputs": [
    {
     "data": {
      "image/png": "[encoded data removed]",
      "text/plain": [
       "<Figure size 1200x800 with 1 Axes>"
      ]
     },
     "metadata": {},
     "output_type": "display_data"
    }
   ],
   "source": [
    "results_df = pd.DataFrame(all_cross_val_results)\n",
    "\n",
    "plt.figure(figsize=(12, 8))\n",
    "sns.boxplot(x='Model', y='ROC-AUC', data=results_df)\n",
    "\n",
    "plt.title('Model Comparison - ROC-AUC Scores')\n",
    "plt.xlabel('Models')\n",
    "plt.ylabel('ROC-AUC Scores')\n",
    "plt.grid(True)\n",
    "plt.tight_layout()\n",
    "plt.show()"
   ]
  },
  {
   "cell_type": "markdown",
   "metadata": {},
   "source": [
    "<a id='5'></a>\n",
    "# 6. Model Tuning and Grid Search"
   ]
  },
  {
   "cell_type": "code",
   "execution_count": 72,
   "metadata": {},
   "outputs": [],
   "source": [
    "best_model = RandomForestClassifier() # as it is the model with the best mean ROC-AUC Score"
   ]
  },
  {
   "cell_type": "code",
   "execution_count": 73,
   "metadata": {},
   "outputs": [],
   "source": [
    "params_grid = {\n",
    "    'max_depth': [5, 10, 15],\n",
    "    'n_estimators': [50, 100, 200],\n",
    "    'max_features': [5, 10, 20]\n",
    "}"
   ]
  },
  {
   "cell_type": "code",
   "execution_count": 74,
   "metadata": {},
   "outputs": [
    {
     "data": {
      "text/plain": [
       "GridSearchCV(cv=KFold(n_splits=10, random_state=13, shuffle=True),\n",
       "             estimator=RandomForestClassifier(), n_jobs=-1,\n",
       "             param_grid={'max_depth': [5, 10, 15], 'max_features': [5, 10, 20],\n",
       "                         'n_estimators': [50, 100, 200]},\n",
       "             scoring='accuracy', verbose=False)"
      ]
     },
     "execution_count": 74,
     "metadata": {},
     "output_type": "execute_result"
    }
   ],
   "source": [
    "grid_search = GridSearchCV(best_model, params_grid, cv=kf, scoring='accuracy', verbose = False, n_jobs=-1) # n_jobs=-1 is parallel processing to reduce computation time\n",
    "grid_search.fit(X_train, y_train)"
   ]
  },
  {
   "cell_type": "code",
   "execution_count": 75,
   "metadata": {},
   "outputs": [
    {
     "name": "stdout",
     "output_type": "stream",
     "text": [
      "Best parameters: {'max_depth': 10, 'max_features': 10, 'n_estimators': 200}\n",
      "Best ROC-AUC score: 0.8594318181818181\n"
     ]
    }
   ],
   "source": [
    "print('Best parameters:', grid_search.best_params_)\n",
    "print('Best ROC-AUC score:', grid_search.best_score_)"
   ]
  },
  {
   "cell_type": "markdown",
   "metadata": {},
   "source": [
    "<a id='6'></a>\n",
    "# 7. Final Model"
   ]
  },
  {
   "cell_type": "code",
   "execution_count": 76,
   "metadata": {},
   "outputs": [],
   "source": [
    "final_model = grid_search.best_estimator_"
   ]
  },
  {
   "cell_type": "markdown",
   "metadata": {},
   "source": [
    "<a id='6.1'></a>\n",
    "## 7.1. Results on the Test Dataset"
   ]
  },
  {
   "cell_type": "code",
   "execution_count": 77,
   "metadata": {},
   "outputs": [],
   "source": [
    "y_pred = final_model.predict(X_test)"
   ]
  },
  {
   "cell_type": "code",
   "execution_count": 78,
   "metadata": {
    "_cell_guid": "f9725666-3c21-69d1-ddf6-45e47d982444"
   },
   "outputs": [
    {
     "name": "stdout",
     "output_type": "stream",
     "text": [
      "Accuracy: 0.8759090909090909\n"
     ]
    }
   ],
   "source": [
    "print('Accuracy:', accuracy_score(y_test, y_pred))"
   ]
  },
  {
   "cell_type": "code",
   "execution_count": 79,
   "metadata": {},
   "outputs": [
    {
     "data": {
      "image/png": "[encoded data removed]",
      "text/plain": [
       "<Figure size 640x480 with 2 Axes>"
      ]
     },
     "metadata": {},
     "output_type": "display_data"
    }
   ],
   "source": [
    "confusion_matrix = confusion_matrix(y_test, y_pred)\n",
    "disp = ConfusionMatrixDisplay(confusion_matrix=confusion_matrix)\n",
    "disp.plot()\n",
    "plt.show()"
   ]
  },
  {
   "cell_type": "code",
   "execution_count": 80,
   "metadata": {},
   "outputs": [
    {
     "name": "stdout",
     "output_type": "stream",
     "text": [
      "Classification Report:\n",
      "               precision    recall  f1-score   support\n",
      "\n",
      "           0       0.91      0.83      0.87      1111\n",
      "           1       0.84      0.92      0.88      1089\n",
      "\n",
      "    accuracy                           0.88      2200\n",
      "   macro avg       0.88      0.88      0.88      2200\n",
      "weighted avg       0.88      0.88      0.88      2200\n",
      "\n"
     ]
    }
   ],
   "source": [
    "print('Classification Report:\\n', classification_report(y_test, y_pred))"
   ]
  },
  {
   "cell_type": "markdown",
   "metadata": {},
   "source": [
    "### Calculate the ROC curve for the model and its AUC"
   ]
  },
  {
   "cell_type": "code",
   "execution_count": 81,
   "metadata": {},
   "outputs": [],
   "source": [
    "y_pred_proba = final_model.predict_proba(X_test)[:, 1]"
   ]
  },
  {
   "cell_type": "code",
   "execution_count": 82,
   "metadata": {},
   "outputs": [],
   "source": [
    "fpr, tpr, thresholds = roc_curve(y_test, y_pred_proba)\n",
    "roc_auc = roc_auc_score(y_test, y_pred_proba)"
   ]
  },
  {
   "cell_type": "code",
   "execution_count": 83,
   "metadata": {},
   "outputs": [
    {
     "data": {
      "image/png": "[encoded data removed]",
      "text/plain": [
       "<Figure size 640x480 with 1 Axes>"
      ]
     },
     "metadata": {},
     "output_type": "display_data"
    }
   ],
   "source": [
    "plt.plot(fpr, tpr, label=f'AUC = {roc_auc:.2f}')\n",
    "plt.xlabel('False Positive Rate')\n",
    "plt.ylabel('True Positive Rate')\n",
    "plt.legend()\n",
    "plt.show()"
   ]
  },
  {
   "cell_type": "markdown",
   "metadata": {},
   "source": [
    "<a id='6.2'></a>\n",
    "## 7.2. Variable Intuition/Feature Importance\n",
    "Looking at the details above GBM might be worthy of further study.\n",
    "Let us look into the Feature Importance of the GBM model"
   ]
  },
  {
   "cell_type": "code",
   "execution_count": 84,
   "metadata": {},
   "outputs": [
    {
     "data": {
      "text/plain": [
       "GradientBoostingClassifier()"
      ]
     },
     "execution_count": 84,
     "metadata": {},
     "output_type": "execute_result"
    }
   ],
   "source": [
    "gbm = GradientBoostingClassifier()\n",
    "gbm.fit(X_train, y_train)"
   ]
  },
  {
   "cell_type": "code",
   "execution_count": 85,
   "metadata": {},
   "outputs": [],
   "source": [
    "feature_importances = gbm.feature_importances_"
   ]
  },
  {
   "cell_type": "code",
   "execution_count": 86,
   "metadata": {},
   "outputs": [],
   "source": [
    "df_features = pd.DataFrame({'features':X_train.columns, 'importances':feature_importances})"
   ]
  },
  {
   "cell_type": "code",
   "execution_count": 87,
   "metadata": {},
   "outputs": [
    {
     "data": {
      "text/html": [
       "<div>\n",
       "<style scoped>\n",
       "    .dataframe tbody tr th:only-of-type {\n",
       "        vertical-align: middle;\n",
       "    }\n",
       "\n",
       "    .dataframe tbody tr th {\n",
       "        vertical-align: top;\n",
       "    }\n",
       "\n",
       "    .dataframe thead th {\n",
       "        text-align: right;\n",
       "    }\n",
       "</style>\n",
       "<table border=\"1\" class=\"dataframe\">\n",
       "  <thead>\n",
       "    <tr style=\"text-align: right;\">\n",
       "      <th></th>\n",
       "      <th>features</th>\n",
       "      <th>importances</th>\n",
       "    </tr>\n",
       "  </thead>\n",
       "  <tbody>\n",
       "    <tr>\n",
       "      <th>18</th>\n",
       "      <td>last_pymnt_amnt</td>\n",
       "      <td>0.760296</td>\n",
       "    </tr>\n",
       "    <tr>\n",
       "      <th>16</th>\n",
       "      <td>term</td>\n",
       "      <td>0.105896</td>\n",
       "    </tr>\n",
       "    <tr>\n",
       "      <th>15</th>\n",
       "      <td>sub_grade</td>\n",
       "      <td>0.043957</td>\n",
       "    </tr>\n",
       "    <tr>\n",
       "      <th>8</th>\n",
       "      <td>installment</td>\n",
       "      <td>0.020437</td>\n",
       "    </tr>\n",
       "    <tr>\n",
       "      <th>9</th>\n",
       "      <td>int_rate</td>\n",
       "      <td>0.018370</td>\n",
       "    </tr>\n",
       "    <tr>\n",
       "      <th>...</th>\n",
       "      <td>...</td>\n",
       "      <td>...</td>\n",
       "    </tr>\n",
       "    <tr>\n",
       "      <th>19</th>\n",
       "      <td>num_actv_rev_tl</td>\n",
       "      <td>0.000253</td>\n",
       "    </tr>\n",
       "    <tr>\n",
       "      <th>5</th>\n",
       "      <td>emp_length</td>\n",
       "      <td>0.000208</td>\n",
       "    </tr>\n",
       "    <tr>\n",
       "      <th>1</th>\n",
       "      <td>addr_state</td>\n",
       "      <td>0.000201</td>\n",
       "    </tr>\n",
       "    <tr>\n",
       "      <th>11</th>\n",
       "      <td>mort_acc</td>\n",
       "      <td>0.000187</td>\n",
       "    </tr>\n",
       "    <tr>\n",
       "      <th>13</th>\n",
       "      <td>purpose</td>\n",
       "      <td>0.000000</td>\n",
       "    </tr>\n",
       "  </tbody>\n",
       "</table>\n",
       "<p>27 rows × 2 columns</p>\n",
       "</div>"
      ],
      "text/plain": [
       "           features  importances\n",
       "18  last_pymnt_amnt     0.760296\n",
       "16             term     0.105896\n",
       "15        sub_grade     0.043957\n",
       "8       installment     0.020437\n",
       "9          int_rate     0.018370\n",
       "..              ...          ...\n",
       "19  num_actv_rev_tl     0.000253\n",
       "5        emp_length     0.000208\n",
       "1        addr_state     0.000201\n",
       "11         mort_acc     0.000187\n",
       "13          purpose     0.000000\n",
       "\n",
       "[27 rows x 2 columns]"
      ]
     },
     "execution_count": 87,
     "metadata": {},
     "output_type": "execute_result"
    }
   ],
   "source": [
    "df_features.sort_values('importances',ascending=False)"
   ]
  },
  {
   "cell_type": "markdown",
   "metadata": {},
   "source": [
    "## Conclusion"
   ]
  },
  {
   "cell_type": "markdown",
   "metadata": {},
   "source": [
    "### Write a short summary of what you have found."
   ]
  },
  {
   "cell_type": "markdown",
   "metadata": {},
   "source": [
    "In conclusion, this loan default probability analysis aimed at building a predictive model for identifying loans status class (ie charge off or fully paid) using a dataset of borrower characteristics. We reduced the dataset from an overwhelming 150 features to a more manageable subset of predictive variables. This allowed us to retain only the most relevant and interpretable features, enhancing both model interpretability and performance. \n",
    "\n",
    "We prepared the dataset for evaluating various classification models. We found that the ensemble method Random Forest was the best classifier, achieving an accuracy and F1 score of 0.87, along with a ROC-AUC of 0.94. Other ensemble methods like AdaBoost Classifier and Logistic Regression achieved high accuracy and stability across cross-validation folds. We performed Model tuning and hyperparameter optimization using GridSearchCV. We also tested a Voting Classifier, which yielded similar performance metrics, but with shorter computation time.\n",
    "\n",
    "The final selected model, based on ROC-AUC demonstrated good predictive capabilities, but we still need to reduce false negative predictions. This model could serve as a valuable asset in credit risk management, helping lenders make more informed, data-driven decisions about loan approval and risk exposure. "
   ]
  },
  {
   "cell_type": "code",
   "execution_count": null,
   "metadata": {},
   "outputs": [],
   "source": []
  }
 ],
 "metadata": {
  "_change_revision": 206,
  "_is_fork": false,
  "kernelspec": {
   "display_name": "Python 3 (ipykernel)",
   "language": "python",
   "name": "python3"
  },
  "language_info": {
   "codemirror_mode": {
    "name": "ipython",
    "version": 3
   },
   "file_extension": ".py",
   "mimetype": "text/x-python",
   "name": "python",
   "nbconvert_exporter": "python",
   "pygments_lexer": "ipython3",
   "version": "3.9.13"
  }
 },
 "nbformat": 4,
 "nbformat_minor": 1
}
